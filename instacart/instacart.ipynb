{
 "cells": [
  {
   "cell_type": "markdown",
   "metadata": {},
   "source": [
    "### Load data"
   ]
  },
  {
   "cell_type": "code",
   "execution_count": 1,
   "metadata": {},
   "outputs": [],
   "source": [
    "from trane.utils.data_parser import denormalize\n",
    "\n",
    "relationships = [\n",
    "    (\"data/orders.csv\", \"order_id\", \"data/order_products.csv\", \"order_id\"),\n",
    "    (\"data/order_products.csv\", \"product_id\", \"data/products.csv\", \"product_id\"),\n",
    "    (\"data/products.csv\", \"aisle_id\", \"data/aisles.csv\", \"aisle_id\"),\n",
    "    (\"data/products.csv\", \"department_id\", \"data/departments.csv\", \"department_id\"),\n",
    "]\n",
    "df = denormalize(relationships)"
   ]
  },
  {
   "cell_type": "markdown",
   "metadata": {},
   "source": [
    "Generate artificial date and remove order no"
   ]
  },
  {
   "cell_type": "code",
   "execution_count": 18,
   "metadata": {},
   "outputs": [],
   "source": [
    "import pandas as pd\n",
    "\n",
    "df[\"order_date\"] = pd.to_datetime(\"2023-01-01\") + pd.to_timedelta(df[\"order_number\"], unit=\"d\")\n",
    "df = df.drop(\"order_number\", axis=1)\n",
    "df = df.sort_values([\"user_id\", \"order_date\"])"
   ]
  },
  {
   "cell_type": "markdown",
   "metadata": {},
   "source": [
    "## Trane"
   ]
  },
  {
   "cell_type": "code",
   "execution_count": 6,
   "metadata": {},
   "outputs": [],
   "source": [
    "import trane\n",
    "\n",
    "entity_col = \"user_id\"\n",
    "time_col = \"order_date\"\n",
    "meta = {\n",
    "    \"order_id\": (\"Integer\", {\"numeric\"}),\n",
    "    \"user_id\": (\"Integer\", {\"numeric\", \"index\"}),\n",
    "    \"eval_set\": (\"Categorical\", {\"category\"}),\n",
    "    \"order_date\": (\"DateTime\", {}),\n",
    "    \"order_dow\": (\"Categorical\", {\"category\"}),\n",
    "    \"order_hour_of_day\": (\"Categorical\", {\"category\"}),\n",
    "    \"days_since_prior_order\": (\"Integer\", {\"numeric\"}),\n",
    "    \"product_id\": (\"Categorical\", {\"category\"}),\n",
    "    \"add_to_cart_order\": (\"Integer\", {\"numeric\"}),\n",
    "    \"reordered\": (\"Categorical\", {\"category\"}),\n",
    "    \"product_name\": (\"Categorical\", {\"category\"}),\n",
    "    \"aisle_id\": (\"Categorical\", {\"category\"}),\n",
    "    \"department_id\": (\"Categorical\", {\"category\"}),\n",
    "    \"aisle\": (\"Categorical\", {\"category\"}),\n",
    "    \"department\": (\"Categorical\", {\"category\"}),\n",
    "}\n",
    "\n",
    "cutoff_strategy = trane.CutoffStrategy(\n",
    "    entity_col=\"user_id\",\n",
    "    window_size=\"1m\",\n",
    "    minimum_data=\"2023-01-01\",\n",
    "    maximum_data=\"2023-02-01\",\n",
    ")\n"
   ]
  },
  {
   "cell_type": "markdown",
   "metadata": {},
   "source": [
    "Fix NaNs"
   ]
  },
  {
   "cell_type": "code",
   "execution_count": 8,
   "metadata": {},
   "outputs": [],
   "source": [
    "df = df.fillna(0)"
   ]
  },
  {
   "cell_type": "markdown",
   "metadata": {},
   "source": [
    "Shorten data"
   ]
  },
  {
   "cell_type": "code",
   "execution_count": 12,
   "metadata": {},
   "outputs": [],
   "source": [
    "df = df.query(\"user_id < 1000\")"
   ]
  },
  {
   "cell_type": "markdown",
   "metadata": {},
   "source": [
    "#### Generate prediction problems"
   ]
  },
  {
   "cell_type": "code",
   "execution_count": 13,
   "metadata": {},
   "outputs": [],
   "source": [
    "problem_generator = trane.PredictionProblemGenerator(\n",
    "    df=df,\n",
    "    table_meta=meta,\n",
    "    entity_col=entity_col,\n",
    "    cutoff_strategy=cutoff_strategy,\n",
    "    time_col=time_col,\n",
    ")"
   ]
  },
  {
   "cell_type": "code",
   "execution_count": 14,
   "metadata": {},
   "outputs": [
    {
     "data": {
      "application/vnd.jupyter.widget-view+json": {
       "model_id": "816a056a8e2947ee8e9b572ff76dfdb9",
       "version_major": 2,
       "version_minor": 0
      },
      "text/plain": [
       "  0%|          | 0/4187 [00:00<?, ?it/s]"
      ]
     },
     "metadata": {},
     "output_type": "display_data"
    }
   ],
   "source": [
    "problems = problem_generator.generate(df, generate_thresholds=True)"
   ]
  },
  {
   "cell_type": "markdown",
   "metadata": {},
   "source": [
    "Find a relevant problem"
   ]
  },
  {
   "cell_type": "code",
   "execution_count": 34,
   "metadata": {},
   "outputs": [
    {
     "name": "stdout",
     "output_type": "stream",
     "text": [
      "Elapsed: 00:03 | Remaining: 00:00 | Progress: 100%|██████████| user_id: 4995/4995 \n"
     ]
    },
    {
     "data": {
      "text/plain": [
       "For each <user_id> predict if there exists a record with with <product_name> equal to Bag of Organic Bananas in next 1m days"
      ]
     },
     "execution_count": 34,
     "metadata": {},
     "output_type": "execute_result"
    }
   ],
   "source": [
    "ex = problems[1886].execute(df, num_examples_per_instance=5)\n",
    "problems[1886]"
   ]
  },
  {
   "cell_type": "markdown",
   "metadata": {},
   "source": [
    "#### Generate features"
   ]
  },
  {
   "cell_type": "code",
   "execution_count": 35,
   "metadata": {},
   "outputs": [
    {
     "name": "stderr",
     "output_type": "stream",
     "text": [
      "index __id__ not found in dataframe, creating new integer column\n"
     ]
    },
    {
     "data": {
      "text/html": [
       "<div>\n",
       "<style scoped>\n",
       "    .dataframe tbody tr th:only-of-type {\n",
       "        vertical-align: middle;\n",
       "    }\n",
       "\n",
       "    .dataframe tbody tr th {\n",
       "        vertical-align: top;\n",
       "    }\n",
       "\n",
       "    .dataframe thead th {\n",
       "        text-align: right;\n",
       "    }\n",
       "</style>\n",
       "<table border=\"1\" class=\"dataframe\">\n",
       "  <thead>\n",
       "    <tr style=\"text-align: right;\">\n",
       "      <th></th>\n",
       "      <th></th>\n",
       "      <th>COUNT(orders)</th>\n",
       "      <th>COUNT(order_products)</th>\n",
       "      <th>MAX(order_products.add_to_cart_order)</th>\n",
       "      <th>MAX(order_products.days_since_prior_order)</th>\n",
       "      <th>MAX(order_products.index)</th>\n",
       "      <th>MEAN(order_products.add_to_cart_order)</th>\n",
       "      <th>MEAN(order_products.days_since_prior_order)</th>\n",
       "      <th>MEAN(order_products.index)</th>\n",
       "      <th>MIN(order_products.add_to_cart_order)</th>\n",
       "      <th>MIN(order_products.days_since_prior_order)</th>\n",
       "      <th>...</th>\n",
       "      <th>SUM(orders.NUM_UNIQUE(order_products.product_id))</th>\n",
       "      <th>SUM(orders.NUM_UNIQUE(order_products.product_name))</th>\n",
       "      <th>SUM(orders.NUM_UNIQUE(order_products.reordered))</th>\n",
       "      <th>SUM(orders.SKEW(order_products.add_to_cart_order))</th>\n",
       "      <th>SUM(orders.SKEW(order_products.days_since_prior_order))</th>\n",
       "      <th>SUM(orders.SKEW(order_products.index))</th>\n",
       "      <th>SUM(orders.STD(order_products.add_to_cart_order))</th>\n",
       "      <th>SUM(orders.STD(order_products.days_since_prior_order))</th>\n",
       "      <th>SUM(orders.STD(order_products.index))</th>\n",
       "      <th>_execute_operations_on_df</th>\n",
       "    </tr>\n",
       "    <tr>\n",
       "      <th>user_id</th>\n",
       "      <th>time</th>\n",
       "      <th></th>\n",
       "      <th></th>\n",
       "      <th></th>\n",
       "      <th></th>\n",
       "      <th></th>\n",
       "      <th></th>\n",
       "      <th></th>\n",
       "      <th></th>\n",
       "      <th></th>\n",
       "      <th></th>\n",
       "      <th></th>\n",
       "      <th></th>\n",
       "      <th></th>\n",
       "      <th></th>\n",
       "      <th></th>\n",
       "      <th></th>\n",
       "      <th></th>\n",
       "      <th></th>\n",
       "      <th></th>\n",
       "      <th></th>\n",
       "      <th></th>\n",
       "    </tr>\n",
       "  </thead>\n",
       "  <tbody>\n",
       "    <tr>\n",
       "      <th>1</th>\n",
       "      <th>2023-01-01</th>\n",
       "      <td>10</td>\n",
       "      <td>0</td>\n",
       "      <td>NaN</td>\n",
       "      <td>NaN</td>\n",
       "      <td>NaN</td>\n",
       "      <td>NaN</td>\n",
       "      <td>NaN</td>\n",
       "      <td>NaN</td>\n",
       "      <td>NaN</td>\n",
       "      <td>NaN</td>\n",
       "      <td>...</td>\n",
       "      <td>0.0</td>\n",
       "      <td>0.0</td>\n",
       "      <td>0.0</td>\n",
       "      <td>0.0</td>\n",
       "      <td>0.0</td>\n",
       "      <td>0.0</td>\n",
       "      <td>0.0</td>\n",
       "      <td>0.0</td>\n",
       "      <td>0.0</td>\n",
       "      <td>True</td>\n",
       "    </tr>\n",
       "    <tr>\n",
       "      <th>2</th>\n",
       "      <th>2023-01-01</th>\n",
       "      <td>14</td>\n",
       "      <td>0</td>\n",
       "      <td>NaN</td>\n",
       "      <td>NaN</td>\n",
       "      <td>NaN</td>\n",
       "      <td>NaN</td>\n",
       "      <td>NaN</td>\n",
       "      <td>NaN</td>\n",
       "      <td>NaN</td>\n",
       "      <td>NaN</td>\n",
       "      <td>...</td>\n",
       "      <td>0.0</td>\n",
       "      <td>0.0</td>\n",
       "      <td>0.0</td>\n",
       "      <td>0.0</td>\n",
       "      <td>0.0</td>\n",
       "      <td>0.0</td>\n",
       "      <td>0.0</td>\n",
       "      <td>0.0</td>\n",
       "      <td>0.0</td>\n",
       "      <td>True</td>\n",
       "    </tr>\n",
       "    <tr>\n",
       "      <th>3</th>\n",
       "      <th>2023-01-01</th>\n",
       "      <td>12</td>\n",
       "      <td>0</td>\n",
       "      <td>NaN</td>\n",
       "      <td>NaN</td>\n",
       "      <td>NaN</td>\n",
       "      <td>NaN</td>\n",
       "      <td>NaN</td>\n",
       "      <td>NaN</td>\n",
       "      <td>NaN</td>\n",
       "      <td>NaN</td>\n",
       "      <td>...</td>\n",
       "      <td>0.0</td>\n",
       "      <td>0.0</td>\n",
       "      <td>0.0</td>\n",
       "      <td>0.0</td>\n",
       "      <td>0.0</td>\n",
       "      <td>0.0</td>\n",
       "      <td>0.0</td>\n",
       "      <td>0.0</td>\n",
       "      <td>0.0</td>\n",
       "      <td>False</td>\n",
       "    </tr>\n",
       "    <tr>\n",
       "      <th>4</th>\n",
       "      <th>2023-01-01</th>\n",
       "      <td>5</td>\n",
       "      <td>0</td>\n",
       "      <td>NaN</td>\n",
       "      <td>NaN</td>\n",
       "      <td>NaN</td>\n",
       "      <td>NaN</td>\n",
       "      <td>NaN</td>\n",
       "      <td>NaN</td>\n",
       "      <td>NaN</td>\n",
       "      <td>NaN</td>\n",
       "      <td>...</td>\n",
       "      <td>0.0</td>\n",
       "      <td>0.0</td>\n",
       "      <td>0.0</td>\n",
       "      <td>0.0</td>\n",
       "      <td>0.0</td>\n",
       "      <td>0.0</td>\n",
       "      <td>0.0</td>\n",
       "      <td>0.0</td>\n",
       "      <td>0.0</td>\n",
       "      <td>False</td>\n",
       "    </tr>\n",
       "    <tr>\n",
       "      <th>5</th>\n",
       "      <th>2023-01-01</th>\n",
       "      <td>4</td>\n",
       "      <td>0</td>\n",
       "      <td>NaN</td>\n",
       "      <td>NaN</td>\n",
       "      <td>NaN</td>\n",
       "      <td>NaN</td>\n",
       "      <td>NaN</td>\n",
       "      <td>NaN</td>\n",
       "      <td>NaN</td>\n",
       "      <td>NaN</td>\n",
       "      <td>...</td>\n",
       "      <td>0.0</td>\n",
       "      <td>0.0</td>\n",
       "      <td>0.0</td>\n",
       "      <td>0.0</td>\n",
       "      <td>0.0</td>\n",
       "      <td>0.0</td>\n",
       "      <td>0.0</td>\n",
       "      <td>0.0</td>\n",
       "      <td>0.0</td>\n",
       "      <td>False</td>\n",
       "    </tr>\n",
       "  </tbody>\n",
       "</table>\n",
       "<p>5 rows × 199 columns</p>\n",
       "</div>"
      ],
      "text/plain": [
       "                    COUNT(orders)  COUNT(order_products)  \\\n",
       "user_id time                                               \n",
       "1       2023-01-01             10                      0   \n",
       "2       2023-01-01             14                      0   \n",
       "3       2023-01-01             12                      0   \n",
       "4       2023-01-01              5                      0   \n",
       "5       2023-01-01              4                      0   \n",
       "\n",
       "                    MAX(order_products.add_to_cart_order)  \\\n",
       "user_id time                                                \n",
       "1       2023-01-01                                    NaN   \n",
       "2       2023-01-01                                    NaN   \n",
       "3       2023-01-01                                    NaN   \n",
       "4       2023-01-01                                    NaN   \n",
       "5       2023-01-01                                    NaN   \n",
       "\n",
       "                    MAX(order_products.days_since_prior_order)  \\\n",
       "user_id time                                                     \n",
       "1       2023-01-01                                         NaN   \n",
       "2       2023-01-01                                         NaN   \n",
       "3       2023-01-01                                         NaN   \n",
       "4       2023-01-01                                         NaN   \n",
       "5       2023-01-01                                         NaN   \n",
       "\n",
       "                    MAX(order_products.index)  \\\n",
       "user_id time                                    \n",
       "1       2023-01-01                        NaN   \n",
       "2       2023-01-01                        NaN   \n",
       "3       2023-01-01                        NaN   \n",
       "4       2023-01-01                        NaN   \n",
       "5       2023-01-01                        NaN   \n",
       "\n",
       "                    MEAN(order_products.add_to_cart_order)  \\\n",
       "user_id time                                                 \n",
       "1       2023-01-01                                     NaN   \n",
       "2       2023-01-01                                     NaN   \n",
       "3       2023-01-01                                     NaN   \n",
       "4       2023-01-01                                     NaN   \n",
       "5       2023-01-01                                     NaN   \n",
       "\n",
       "                    MEAN(order_products.days_since_prior_order)  \\\n",
       "user_id time                                                      \n",
       "1       2023-01-01                                          NaN   \n",
       "2       2023-01-01                                          NaN   \n",
       "3       2023-01-01                                          NaN   \n",
       "4       2023-01-01                                          NaN   \n",
       "5       2023-01-01                                          NaN   \n",
       "\n",
       "                    MEAN(order_products.index)  \\\n",
       "user_id time                                     \n",
       "1       2023-01-01                         NaN   \n",
       "2       2023-01-01                         NaN   \n",
       "3       2023-01-01                         NaN   \n",
       "4       2023-01-01                         NaN   \n",
       "5       2023-01-01                         NaN   \n",
       "\n",
       "                    MIN(order_products.add_to_cart_order)  \\\n",
       "user_id time                                                \n",
       "1       2023-01-01                                    NaN   \n",
       "2       2023-01-01                                    NaN   \n",
       "3       2023-01-01                                    NaN   \n",
       "4       2023-01-01                                    NaN   \n",
       "5       2023-01-01                                    NaN   \n",
       "\n",
       "                    MIN(order_products.days_since_prior_order)  ...  \\\n",
       "user_id time                                                    ...   \n",
       "1       2023-01-01                                         NaN  ...   \n",
       "2       2023-01-01                                         NaN  ...   \n",
       "3       2023-01-01                                         NaN  ...   \n",
       "4       2023-01-01                                         NaN  ...   \n",
       "5       2023-01-01                                         NaN  ...   \n",
       "\n",
       "                    SUM(orders.NUM_UNIQUE(order_products.product_id))  \\\n",
       "user_id time                                                            \n",
       "1       2023-01-01                                                0.0   \n",
       "2       2023-01-01                                                0.0   \n",
       "3       2023-01-01                                                0.0   \n",
       "4       2023-01-01                                                0.0   \n",
       "5       2023-01-01                                                0.0   \n",
       "\n",
       "                   SUM(orders.NUM_UNIQUE(order_products.product_name))  \\\n",
       "user_id time                                                             \n",
       "1       2023-01-01                                                0.0    \n",
       "2       2023-01-01                                                0.0    \n",
       "3       2023-01-01                                                0.0    \n",
       "4       2023-01-01                                                0.0    \n",
       "5       2023-01-01                                                0.0    \n",
       "\n",
       "                   SUM(orders.NUM_UNIQUE(order_products.reordered))  \\\n",
       "user_id time                                                          \n",
       "1       2023-01-01                                              0.0   \n",
       "2       2023-01-01                                              0.0   \n",
       "3       2023-01-01                                              0.0   \n",
       "4       2023-01-01                                              0.0   \n",
       "5       2023-01-01                                              0.0   \n",
       "\n",
       "                   SUM(orders.SKEW(order_products.add_to_cart_order))  \\\n",
       "user_id time                                                            \n",
       "1       2023-01-01                                                0.0   \n",
       "2       2023-01-01                                                0.0   \n",
       "3       2023-01-01                                                0.0   \n",
       "4       2023-01-01                                                0.0   \n",
       "5       2023-01-01                                                0.0   \n",
       "\n",
       "                   SUM(orders.SKEW(order_products.days_since_prior_order))  \\\n",
       "user_id time                                                                 \n",
       "1       2023-01-01                                                0.0        \n",
       "2       2023-01-01                                                0.0        \n",
       "3       2023-01-01                                                0.0        \n",
       "4       2023-01-01                                                0.0        \n",
       "5       2023-01-01                                                0.0        \n",
       "\n",
       "                   SUM(orders.SKEW(order_products.index))  \\\n",
       "user_id time                                                \n",
       "1       2023-01-01                                    0.0   \n",
       "2       2023-01-01                                    0.0   \n",
       "3       2023-01-01                                    0.0   \n",
       "4       2023-01-01                                    0.0   \n",
       "5       2023-01-01                                    0.0   \n",
       "\n",
       "                   SUM(orders.STD(order_products.add_to_cart_order))  \\\n",
       "user_id time                                                           \n",
       "1       2023-01-01                                               0.0   \n",
       "2       2023-01-01                                               0.0   \n",
       "3       2023-01-01                                               0.0   \n",
       "4       2023-01-01                                               0.0   \n",
       "5       2023-01-01                                               0.0   \n",
       "\n",
       "                   SUM(orders.STD(order_products.days_since_prior_order))  \\\n",
       "user_id time                                                                \n",
       "1       2023-01-01                                                0.0       \n",
       "2       2023-01-01                                                0.0       \n",
       "3       2023-01-01                                                0.0       \n",
       "4       2023-01-01                                                0.0       \n",
       "5       2023-01-01                                                0.0       \n",
       "\n",
       "                   SUM(orders.STD(order_products.index))  \\\n",
       "user_id time                                               \n",
       "1       2023-01-01                                   0.0   \n",
       "2       2023-01-01                                   0.0   \n",
       "3       2023-01-01                                   0.0   \n",
       "4       2023-01-01                                   0.0   \n",
       "5       2023-01-01                                   0.0   \n",
       "\n",
       "                    _execute_operations_on_df  \n",
       "user_id time                                   \n",
       "1       2023-01-01                       True  \n",
       "2       2023-01-01                       True  \n",
       "3       2023-01-01                      False  \n",
       "4       2023-01-01                      False  \n",
       "5       2023-01-01                      False  \n",
       "\n",
       "[5 rows x 199 columns]"
      ]
     },
     "execution_count": 35,
     "metadata": {},
     "output_type": "execute_result"
    }
   ],
   "source": [
    "import featuretools as ft\n",
    "es = ft.EntitySet('instacart')\n",
    "\n",
    "es.add_dataframe(\n",
    "    dataframe=df.reset_index(),\n",
    "    dataframe_name='order_products',\n",
    "    time_index='order_date',\n",
    "    index='__id__',\n",
    ")\n",
    "\n",
    "es.normalize_dataframe(\n",
    "    base_dataframe_name='order_products',\n",
    "    new_dataframe_name='orders',\n",
    "    index='order_id',\n",
    "    additional_columns=['user_id'],\n",
    "    make_time_index=False,\n",
    ")\n",
    "\n",
    "es.normalize_dataframe(\n",
    "    base_dataframe_name='orders',\n",
    "    new_dataframe_name='customers',\n",
    "    index='user_id',\n",
    "    make_time_index=False,\n",
    ")\n",
    "\n",
    "es.normalize_dataframe(\n",
    "    base_dataframe_name='order_products',\n",
    "    new_dataframe_name='products',\n",
    "    index='product_id',\n",
    "    additional_columns=['aisle_id', 'department_id'],\n",
    "    make_time_index=False,\n",
    ")\n",
    "\n",
    "es.normalize_dataframe(\n",
    "    base_dataframe_name='products',\n",
    "    new_dataframe_name='aisles',\n",
    "    index='aisle_id',\n",
    "    additional_columns=['department_id'],\n",
    "    make_time_index=False,\n",
    ")\n",
    "\n",
    "es.normalize_dataframe(\n",
    "    base_dataframe_name='aisles',\n",
    "    new_dataframe_name='departments',\n",
    "    index='department_id',\n",
    "    make_time_index=False,\n",
    ")\n",
    "\n",
    "fm, fd = ft.dfs(\n",
    "    entityset=es,\n",
    "    target_dataframe_name='customers',\n",
    "    cutoff_time=ex,\n",
    "    cutoff_time_in_index=True,\n",
    "    include_cutoff_time=False,\n",
    "    verbose=False,\n",
    ")\n",
    "\n",
    "fm.head()\n"
   ]
  },
  {
   "cell_type": "markdown",
   "metadata": {},
   "source": [
    "X and y"
   ]
  },
  {
   "cell_type": "code",
   "execution_count": 36,
   "metadata": {},
   "outputs": [],
   "source": [
    "fm.reset_index(drop=True, inplace=True)\n",
    "y = fm.ww.pop('_execute_operations_on_df')"
   ]
  },
  {
   "cell_type": "markdown",
   "metadata": {},
   "source": [
    "#### AutoML"
   ]
  },
  {
   "cell_type": "code",
   "execution_count": 37,
   "metadata": {},
   "outputs": [
    {
     "name": "stdout",
     "output_type": "stream",
     "text": [
      "\n",
      "*************************************************************************\n",
      "* Random Forest Classifier w/ Label Encoder + Imputer + One Hot Encoder *\n",
      "*************************************************************************\n",
      "\n",
      "Problem Type: binary\n",
      "Model Family: Random Forest\n",
      "Number of features: 296\n",
      "\n",
      "Pipeline Steps\n",
      "==============\n",
      "1. Label Encoder\n",
      "\t * positive_label : None\n",
      "2. Imputer\n",
      "\t * categorical_impute_strategy : most_frequent\n",
      "\t * numeric_impute_strategy : mean\n",
      "\t * boolean_impute_strategy : most_frequent\n",
      "\t * categorical_fill_value : None\n",
      "\t * numeric_fill_value : None\n",
      "\t * boolean_fill_value : None\n",
      "3. One Hot Encoder\n",
      "\t * top_n : 10\n",
      "\t * features_to_encode : None\n",
      "\t * categories : None\n",
      "\t * drop : if_binary\n",
      "\t * handle_unknown : ignore\n",
      "\t * handle_missing : error\n",
      "4. Random Forest Classifier\n",
      "\t * n_estimators : 100\n",
      "\t * max_depth : 6\n",
      "\t * n_jobs : -1\n"
     ]
    }
   ],
   "source": [
    "import evalml\n",
    "splits = evalml.preprocessing.split_data(\n",
    "    X=fm,\n",
    "    y=y,\n",
    "    test_size=0.2,\n",
    "    random_seed=0,\n",
    "    problem_type='binary',\n",
    ")\n",
    "\n",
    "X_train, X_holdout, y_train, y_holdout = splits\n",
    "\n",
    "automl = evalml.AutoMLSearch(\n",
    "    X_train=X_train,\n",
    "    y_train=y_train,\n",
    "    problem_type='binary',\n",
    "    objective='f1',\n",
    "    random_seed=0,\n",
    "    allowed_model_families=['extra_trees', 'random_forest'],\n",
    "    max_iterations=2,\n",
    ")\n",
    "\n",
    "automl.search()\n",
    "\n",
    "automl.best_pipeline.describe()"
   ]
  },
  {
   "cell_type": "code",
   "execution_count": 40,
   "metadata": {},
   "outputs": [
    {
     "data": {
      "text/plain": [
       "OrderedDict([('AUC', 0.7313375240810892), ('F1', 0.5328836424957841)])"
      ]
     },
     "execution_count": 40,
     "metadata": {},
     "output_type": "execute_result"
    }
   ],
   "source": [
    "automl.best_pipeline.score(X_train, y_train, objectives=[\"auc\", \"F1\"])"
   ]
  },
  {
   "cell_type": "code",
   "execution_count": 41,
   "metadata": {},
   "outputs": [
    {
     "data": {
      "text/plain": [
       "OrderedDict([('AUC', 0.6100510107689401), ('F1', 0.45283018867924535)])"
      ]
     },
     "execution_count": 41,
     "metadata": {},
     "output_type": "execute_result"
    }
   ],
   "source": [
    "automl.best_pipeline.score(X_holdout, y_holdout, objectives=[\"auc\", \"F1\"])"
   ]
  },
  {
   "cell_type": "code",
   "execution_count": null,
   "metadata": {},
   "outputs": [],
   "source": []
  }
 ],
 "metadata": {
  "kernelspec": {
   "display_name": "trane",
   "language": "python",
   "name": "python3"
  },
  "language_info": {
   "codemirror_mode": {
    "name": "ipython",
    "version": 3
   },
   "file_extension": ".py",
   "mimetype": "text/x-python",
   "name": "python",
   "nbconvert_exporter": "python",
   "pygments_lexer": "ipython3",
   "version": "3.9.17"
  },
  "orig_nbformat": 4
 },
 "nbformat": 4,
 "nbformat_minor": 2
}
