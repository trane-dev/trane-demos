{
 "cells": [
  {
   "cell_type": "markdown",
   "metadata": {},
   "source": [
    "### Set up parameters"
   ]
  },
  {
   "cell_type": "code",
   "execution_count": 1,
   "metadata": {},
   "outputs": [],
   "source": [
    "name = \"instacart\"\n",
    "\n",
    "target_entity = \"order_products\"\n",
    "\n",
    "entity_col = \"orders.user_id\"\n",
    "time_col = \"orders.order_date\"\n",
    "\n",
    "window_size = \"2w\"\n",
    "minimum_data = \"2023-01-01\"\n",
    "maximum_data = \"2023-11-01\""
   ]
  },
  {
   "cell_type": "markdown",
   "metadata": {},
   "source": [
    "### Dataset"
   ]
  },
  {
   "cell_type": "markdown",
   "metadata": {},
   "source": [
    "##### Load data"
   ]
  },
  {
   "cell_type": "code",
   "execution_count": 2,
   "metadata": {},
   "outputs": [],
   "source": [
    "from trane.datasets import load_instacart\n",
    "dataframes, relationships = load_instacart()"
   ]
  },
  {
   "cell_type": "markdown",
   "metadata": {},
   "source": [
    "##### Denormalize dataset"
   ]
  },
  {
   "cell_type": "code",
   "execution_count": 3,
   "metadata": {},
   "outputs": [],
   "source": [
    "from trane.parsing import denormalize\n",
    "import pandas as pd\n",
    "\n",
    "df = denormalize(\n",
    "    dataframes,\n",
    "    relationships,\n",
    "    target_entity\n",
    ")\n",
    "df = df.dropna()"
   ]
  },
  {
   "cell_type": "markdown",
   "metadata": {},
   "source": [
    "##### Infer metadata"
   ]
  },
  {
   "cell_type": "code",
   "execution_count": 4,
   "metadata": {},
   "outputs": [
    {
     "name": "stderr",
     "output_type": "stream",
     "text": [
      "/opt/miniconda3/envs/trane2/lib/python3.10/site-packages/trane/typing/inference_functions.py:195: UserWarning: The argument 'infer_datetime_format' is deprecated and will be removed in a future version. A strict version of it is now the default, see https://pandas.pydata.org/pdeps/0004-consistent-to-datetime-parsing.html. You can safely remove this argument.\n",
      "  pd.to_datetime(\n",
      "/opt/miniconda3/envs/trane2/lib/python3.10/site-packages/trane/typing/inference_functions.py:195: UserWarning: The argument 'infer_datetime_format' is deprecated and will be removed in a future version. A strict version of it is now the default, see https://pandas.pydata.org/pdeps/0004-consistent-to-datetime-parsing.html. You can safely remove this argument.\n",
      "  pd.to_datetime(\n",
      "/opt/miniconda3/envs/trane2/lib/python3.10/site-packages/trane/typing/inference_functions.py:195: UserWarning: The argument 'infer_datetime_format' is deprecated and will be removed in a future version. A strict version of it is now the default, see https://pandas.pydata.org/pdeps/0004-consistent-to-datetime-parsing.html. You can safely remove this argument.\n",
      "  pd.to_datetime(\n",
      "/opt/miniconda3/envs/trane2/lib/python3.10/site-packages/trane/typing/inference_functions.py:195: UserWarning: Could not infer format, so each element will be parsed individually, falling back to `dateutil`. To ensure parsing is consistent and as-expected, please specify a format.\n",
      "  pd.to_datetime(\n",
      "/opt/miniconda3/envs/trane2/lib/python3.10/site-packages/trane/typing/inference_functions.py:195: UserWarning: The argument 'infer_datetime_format' is deprecated and will be removed in a future version. A strict version of it is now the default, see https://pandas.pydata.org/pdeps/0004-consistent-to-datetime-parsing.html. You can safely remove this argument.\n",
      "  pd.to_datetime(\n",
      "/opt/miniconda3/envs/trane2/lib/python3.10/site-packages/trane/typing/inference_functions.py:195: UserWarning: Could not infer format, so each element will be parsed individually, falling back to `dateutil`. To ensure parsing is consistent and as-expected, please specify a format.\n",
      "  pd.to_datetime(\n",
      "/opt/miniconda3/envs/trane2/lib/python3.10/site-packages/trane/typing/inference_functions.py:195: UserWarning: The argument 'infer_datetime_format' is deprecated and will be removed in a future version. A strict version of it is now the default, see https://pandas.pydata.org/pdeps/0004-consistent-to-datetime-parsing.html. You can safely remove this argument.\n",
      "  pd.to_datetime(\n",
      "/opt/miniconda3/envs/trane2/lib/python3.10/site-packages/trane/typing/inference_functions.py:195: UserWarning: Could not infer format, so each element will be parsed individually, falling back to `dateutil`. To ensure parsing is consistent and as-expected, please specify a format.\n",
      "  pd.to_datetime(\n",
      "/opt/miniconda3/envs/trane2/lib/python3.10/site-packages/trane/typing/inference_functions.py:195: UserWarning: The argument 'infer_datetime_format' is deprecated and will be removed in a future version. A strict version of it is now the default, see https://pandas.pydata.org/pdeps/0004-consistent-to-datetime-parsing.html. You can safely remove this argument.\n",
      "  pd.to_datetime(\n",
      "/opt/miniconda3/envs/trane2/lib/python3.10/site-packages/trane/typing/inference_functions.py:195: UserWarning: Could not infer format, so each element will be parsed individually, falling back to `dateutil`. To ensure parsing is consistent and as-expected, please specify a format.\n",
      "  pd.to_datetime(\n",
      "/opt/miniconda3/envs/trane2/lib/python3.10/site-packages/trane/typing/inference_functions.py:195: UserWarning: The argument 'infer_datetime_format' is deprecated and will be removed in a future version. A strict version of it is now the default, see https://pandas.pydata.org/pdeps/0004-consistent-to-datetime-parsing.html. You can safely remove this argument.\n",
      "  pd.to_datetime(\n",
      "/opt/miniconda3/envs/trane2/lib/python3.10/site-packages/trane/typing/inference_functions.py:195: UserWarning: Could not infer format, so each element will be parsed individually, falling back to `dateutil`. To ensure parsing is consistent and as-expected, please specify a format.\n",
      "  pd.to_datetime(\n",
      "/opt/miniconda3/envs/trane2/lib/python3.10/site-packages/trane/typing/inference_functions.py:195: UserWarning: The argument 'infer_datetime_format' is deprecated and will be removed in a future version. A strict version of it is now the default, see https://pandas.pydata.org/pdeps/0004-consistent-to-datetime-parsing.html. You can safely remove this argument.\n",
      "  pd.to_datetime(\n",
      "/opt/miniconda3/envs/trane2/lib/python3.10/site-packages/trane/typing/inference_functions.py:195: UserWarning: Could not infer format, so each element will be parsed individually, falling back to `dateutil`. To ensure parsing is consistent and as-expected, please specify a format.\n",
      "  pd.to_datetime(\n"
     ]
    }
   ],
   "source": [
    "from trane.typing import infer_table_meta\n",
    "meta = infer_table_meta(df, entity_col, time_col)"
   ]
  },
  {
   "cell_type": "markdown",
   "metadata": {},
   "source": [
    "##### Manually set metadata for columns which were not inferred automatically"
   ]
  },
  {
   "cell_type": "code",
   "execution_count": 5,
   "metadata": {},
   "outputs": [],
   "source": [
    "from trane.typing.column_schema import ColumnSchema\n",
    "from trane.typing.logical_types import Categorical\n",
    "\n",
    "meta[\"orders.eval_set\"] = ColumnSchema(Categorical, semantic_tags={\"category\"})\n",
    "meta[\"products.aisles.aisle\"] = ColumnSchema(Categorical, semantic_tags={\"category\"})\n",
    "meta[\"products.departments.department\"] = ColumnSchema(Categorical, semantic_tags={\"category\"})\n",
    "meta[\"products.product_name\"] = ColumnSchema(Categorical, semantic_tags={\"category\"})"
   ]
  },
  {
   "cell_type": "markdown",
   "metadata": {},
   "source": [
    "## Trane"
   ]
  },
  {
   "cell_type": "markdown",
   "metadata": {},
   "source": [
    "### Generate prediction problems"
   ]
  },
  {
   "cell_type": "code",
   "execution_count": 6,
   "metadata": {},
   "outputs": [
    {
     "data": {
      "application/vnd.jupyter.widget-view+json": {
       "model_id": "eab451a08f85473c8aa5a228a3686076",
       "version_major": 2,
       "version_minor": 0
      },
      "text/plain": [
       "  0%|          | 0/4104 [00:00<?, ?it/s]"
      ]
     },
     "metadata": {},
     "output_type": "display_data"
    }
   ],
   "source": [
    "from trane import CutoffStrategy\n",
    "\n",
    "cutoff_strategy = CutoffStrategy(\n",
    "    entity_col=entity_col,\n",
    "    window_size=window_size,\n",
    "    minimum_data=minimum_data,\n",
    "    maximum_data=maximum_data,\n",
    ")\n",
    "\n",
    "from trane import PredictionProblemGenerator\n",
    "problem_generator = PredictionProblemGenerator(\n",
    "    df=df,\n",
    "    table_meta=meta,\n",
    "    entity_col=entity_col,\n",
    "    cutoff_strategy=cutoff_strategy,\n",
    "    time_col=time_col,\n",
    ")\n",
    "problems = problem_generator.generate(df, generate_thresholds=True)"
   ]
  },
  {
   "cell_type": "markdown",
   "metadata": {},
   "source": [
    "##### Output all prediction problems to a file"
   ]
  },
  {
   "cell_type": "code",
   "execution_count": 7,
   "metadata": {},
   "outputs": [],
   "source": [
    "with open(\"generated_problems.txt\", \"w\") as text_file:\n",
    "    for idx, p in enumerate(problems):\n",
    "        print(idx, p, file=text_file)"
   ]
  },
  {
   "cell_type": "markdown",
   "metadata": {},
   "source": [
    "### Find a relevant problem\n",
    "Look through the generated_problems.txt file and find the ID of an interesting problem"
   ]
  },
  {
   "cell_type": "code",
   "execution_count": 12,
   "metadata": {},
   "outputs": [
    {
     "name": "stdout",
     "output_type": "stream",
     "text": [
      "Elapsed: 00:54 | Remaining: 00:00 | Progress: 100%|██████████| orders.user_id: 10000/10000 \n"
     ]
    },
    {
     "data": {
      "text/plain": [
       "For each <orders.user_id> predict if there exists a record with <products.product_name> equal to Banana in next 2w days"
      ]
     },
     "execution_count": 12,
     "metadata": {},
     "output_type": "execute_result"
    }
   ],
   "source": [
    "ex = problems[273].execute(df, num_examples_per_instance=-1)\n",
    "problems[273]"
   ]
  },
  {
   "cell_type": "markdown",
   "metadata": {},
   "source": [
    "### Feature engineering\n",
    "Using Featuretools"
   ]
  },
  {
   "cell_type": "code",
   "execution_count": 13,
   "metadata": {},
   "outputs": [
    {
     "name": "stderr",
     "output_type": "stream",
     "text": [
      "/opt/miniconda3/envs/trane2/lib/python3.10/site-packages/featuretools/entityset/entityset.py:1910: UserWarning: index __id__ not found in dataframe, creating new integer column\n",
      "  warnings.warn(\n",
      "/opt/miniconda3/envs/trane2/lib/python3.10/site-packages/woodwork/type_sys/utils.py:40: UserWarning: The argument 'infer_datetime_format' is deprecated and will be removed in a future version. A strict version of it is now the default, see https://pandas.pydata.org/pdeps/0004-consistent-to-datetime-parsing.html. You can safely remove this argument.\n",
      "  pd.to_datetime(\n",
      "/opt/miniconda3/envs/trane2/lib/python3.10/site-packages/woodwork/type_sys/utils.py:40: UserWarning: The argument 'infer_datetime_format' is deprecated and will be removed in a future version. A strict version of it is now the default, see https://pandas.pydata.org/pdeps/0004-consistent-to-datetime-parsing.html. You can safely remove this argument.\n",
      "  pd.to_datetime(\n",
      "/opt/miniconda3/envs/trane2/lib/python3.10/site-packages/woodwork/type_sys/utils.py:40: UserWarning: Could not infer format, so each element will be parsed individually, falling back to `dateutil`. To ensure parsing is consistent and as-expected, please specify a format.\n",
      "  pd.to_datetime(\n",
      "/opt/miniconda3/envs/trane2/lib/python3.10/site-packages/woodwork/type_sys/utils.py:40: UserWarning: The argument 'infer_datetime_format' is deprecated and will be removed in a future version. A strict version of it is now the default, see https://pandas.pydata.org/pdeps/0004-consistent-to-datetime-parsing.html. You can safely remove this argument.\n",
      "  pd.to_datetime(\n",
      "/opt/miniconda3/envs/trane2/lib/python3.10/site-packages/woodwork/type_sys/utils.py:40: UserWarning: Could not infer format, so each element will be parsed individually, falling back to `dateutil`. To ensure parsing is consistent and as-expected, please specify a format.\n",
      "  pd.to_datetime(\n",
      "/opt/miniconda3/envs/trane2/lib/python3.10/site-packages/woodwork/type_sys/utils.py:40: UserWarning: The argument 'infer_datetime_format' is deprecated and will be removed in a future version. A strict version of it is now the default, see https://pandas.pydata.org/pdeps/0004-consistent-to-datetime-parsing.html. You can safely remove this argument.\n",
      "  pd.to_datetime(\n",
      "/opt/miniconda3/envs/trane2/lib/python3.10/site-packages/woodwork/type_sys/utils.py:40: UserWarning: Could not infer format, so each element will be parsed individually, falling back to `dateutil`. To ensure parsing is consistent and as-expected, please specify a format.\n",
      "  pd.to_datetime(\n"
     ]
    },
    {
     "data": {
      "image/svg+xml": [
       "<?xml version=\"1.0\" encoding=\"UTF-8\" standalone=\"no\"?>\n",
       "<!DOCTYPE svg PUBLIC \"-//W3C//DTD SVG 1.1//EN\"\n",
       " \"http://www.w3.org/Graphics/SVG/1.1/DTD/svg11.dtd\">\n",
       "<!-- Generated by graphviz version 8.1.0 (20230707.0739)\n",
       " -->\n",
       "<!-- Title: instacart Pages: 1 -->\n",
       "<svg width=\"701pt\" height=\"428pt\"\n",
       " viewBox=\"0.00 0.00 700.62 428.00\" xmlns=\"http://www.w3.org/2000/svg\" xmlns:xlink=\"http://www.w3.org/1999/xlink\">\n",
       "<g id=\"graph0\" class=\"graph\" transform=\"scale(1 1) rotate(0) translate(4 424)\">\n",
       "<title>instacart</title>\n",
       "<polygon fill=\"white\" stroke=\"none\" points=\"-4,4 -4,-424 696.62,-424 696.62,4 -4,4\"/>\n",
       "<!-- order_products -->\n",
       "<g id=\"node1\" class=\"node\">\n",
       "<title>order_products</title>\n",
       "<polygon fill=\"none\" stroke=\"black\" points=\"320.75,-271.5 320.75,-419.5 562.5,-419.5 562.5,-271.5 320.75,-271.5\"/>\n",
       "<text text-anchor=\"middle\" x=\"441.62\" y=\"-402.2\" font-family=\"Times,serif\" font-size=\"14.00\">order_products (1446475 rows)</text>\n",
       "<polyline fill=\"none\" stroke=\"black\" points=\"320.75,-395 562.5,-395\"/>\n",
       "<text text-anchor=\"start\" x=\"328.75\" y=\"-377.7\" font-family=\"Times,serif\" font-size=\"14.00\">__id__ : Integer; index</text>\n",
       "<text text-anchor=\"start\" x=\"328.75\" y=\"-361.2\" font-family=\"Times,serif\" font-size=\"14.00\">index : Integer</text>\n",
       "<text text-anchor=\"start\" x=\"328.75\" y=\"-344.7\" font-family=\"Times,serif\" font-size=\"14.00\">order_id : Integer; foreign_key</text>\n",
       "<text text-anchor=\"start\" x=\"328.75\" y=\"-328.2\" font-family=\"Times,serif\" font-size=\"14.00\">orders.order_date : Datetime; time_index</text>\n",
       "<text text-anchor=\"start\" x=\"328.75\" y=\"-311.7\" font-family=\"Times,serif\" font-size=\"14.00\">product_id : Integer; foreign_key</text>\n",
       "<text text-anchor=\"start\" x=\"328.75\" y=\"-295.2\" font-family=\"Times,serif\" font-size=\"14.00\">add_to_cart_order : Integer</text>\n",
       "<text text-anchor=\"start\" x=\"328.75\" y=\"-278.7\" font-family=\"Times,serif\" font-size=\"14.00\">reordered : Integer</text>\n",
       "</g>\n",
       "<!-- products -->\n",
       "<g id=\"node2\" class=\"node\">\n",
       "<title>products</title>\n",
       "<polygon fill=\"none\" stroke=\"black\" points=\"170.75,-94.75 170.75,-226.25 442.5,-226.25 442.5,-94.75 170.75,-94.75\"/>\n",
       "<text text-anchor=\"middle\" x=\"306.62\" y=\"-208.95\" font-family=\"Times,serif\" font-size=\"14.00\">products (34550 rows)</text>\n",
       "<polyline fill=\"none\" stroke=\"black\" points=\"170.75,-201.75 442.5,-201.75\"/>\n",
       "<text text-anchor=\"start\" x=\"178.75\" y=\"-184.45\" font-family=\"Times,serif\" font-size=\"14.00\">product_id : Integer; index</text>\n",
       "<text text-anchor=\"start\" x=\"178.75\" y=\"-167.95\" font-family=\"Times,serif\" font-size=\"14.00\">products.aisle_id : Integer; foreign_key</text>\n",
       "<text text-anchor=\"start\" x=\"178.75\" y=\"-151.45\" font-family=\"Times,serif\" font-size=\"14.00\">products.aisles.aisle : Categorical</text>\n",
       "<text text-anchor=\"start\" x=\"178.75\" y=\"-134.95\" font-family=\"Times,serif\" font-size=\"14.00\">products.department_id : Integer; foreign_key</text>\n",
       "<text text-anchor=\"start\" x=\"178.75\" y=\"-118.45\" font-family=\"Times,serif\" font-size=\"14.00\">products.departments.department : Categorical</text>\n",
       "<text text-anchor=\"start\" x=\"178.75\" y=\"-101.95\" font-family=\"Times,serif\" font-size=\"14.00\">products.product_name : Categorical</text>\n",
       "</g>\n",
       "<!-- order_products&#45;&gt;products -->\n",
       "<g id=\"edge1\" class=\"edge\">\n",
       "<title>order_products&#45;&gt;products</title>\n",
       "<path fill=\"none\" stroke=\"black\" d=\"M381.62,-271.59C381.62,-271.59 381.62,-237.22 381.62,-237.22\"/>\n",
       "<polygon fill=\"black\" stroke=\"black\" points=\"385.13,-237.22 381.62,-227.22 378.13,-237.22 385.13,-237.22\"/>\n",
       "<text text-anchor=\"middle\" x=\"352.38\" y=\"-257.6\" font-family=\"Times,serif\" font-size=\"14.00\">product_id</text>\n",
       "</g>\n",
       "<!-- orders -->\n",
       "<g id=\"node3\" class=\"node\">\n",
       "<title>orders</title>\n",
       "<polygon fill=\"none\" stroke=\"black\" points=\"460.62,-86.5 460.62,-234.5 692.62,-234.5 692.62,-86.5 460.62,-86.5\"/>\n",
       "<text text-anchor=\"middle\" x=\"576.62\" y=\"-217.2\" font-family=\"Times,serif\" font-size=\"14.00\">orders (145676 rows)</text>\n",
       "<polyline fill=\"none\" stroke=\"black\" points=\"460.62,-210 692.62,-210\"/>\n",
       "<text text-anchor=\"start\" x=\"468.62\" y=\"-192.7\" font-family=\"Times,serif\" font-size=\"14.00\">order_id : Integer; index</text>\n",
       "<text text-anchor=\"start\" x=\"468.62\" y=\"-176.2\" font-family=\"Times,serif\" font-size=\"14.00\">orders.user_id : Integer; foreign_key</text>\n",
       "<text text-anchor=\"start\" x=\"468.62\" y=\"-159.7\" font-family=\"Times,serif\" font-size=\"14.00\">orders.eval_set : Categorical</text>\n",
       "<text text-anchor=\"start\" x=\"468.62\" y=\"-143.2\" font-family=\"Times,serif\" font-size=\"14.00\">orders.order_number : Integer</text>\n",
       "<text text-anchor=\"start\" x=\"468.62\" y=\"-126.7\" font-family=\"Times,serif\" font-size=\"14.00\">orders.order_dow : Integer</text>\n",
       "<text text-anchor=\"start\" x=\"468.62\" y=\"-110.2\" font-family=\"Times,serif\" font-size=\"14.00\">orders.order_hour_of_day : Integer</text>\n",
       "<text text-anchor=\"start\" x=\"468.62\" y=\"-93.7\" font-family=\"Times,serif\" font-size=\"14.00\">orders.days_since_prior_order : Double</text>\n",
       "</g>\n",
       "<!-- order_products&#45;&gt;orders -->\n",
       "<g id=\"edge2\" class=\"edge\">\n",
       "<title>order_products&#45;&gt;orders</title>\n",
       "<path fill=\"none\" stroke=\"black\" d=\"M511.56,-271.59C511.56,-271.59 511.56,-245.3 511.56,-245.3\"/>\n",
       "<polygon fill=\"black\" stroke=\"black\" points=\"515.06,-245.3 511.56,-235.3 508.06,-245.3 515.06,-245.3\"/>\n",
       "<text text-anchor=\"middle\" x=\"488.69\" y=\"-245.14\" font-family=\"Times,serif\" font-size=\"14.00\">order_id</text>\n",
       "</g>\n",
       "<!-- aisles -->\n",
       "<g id=\"node4\" class=\"node\">\n",
       "<title>aisles</title>\n",
       "<polygon fill=\"none\" stroke=\"black\" points=\"0,-0.5 0,-49.5 195.25,-49.5 195.25,-0.5 0,-0.5\"/>\n",
       "<text text-anchor=\"middle\" x=\"97.62\" y=\"-32.2\" font-family=\"Times,serif\" font-size=\"14.00\">aisles (134 rows)</text>\n",
       "<polyline fill=\"none\" stroke=\"black\" points=\"0,-25 195.25,-25\"/>\n",
       "<text text-anchor=\"start\" x=\"8\" y=\"-7.7\" font-family=\"Times,serif\" font-size=\"14.00\">products.aisle_id : Integer; index</text>\n",
       "</g>\n",
       "<!-- products&#45;&gt;aisles -->\n",
       "<g id=\"edge3\" class=\"edge\">\n",
       "<title>products&#45;&gt;aisles</title>\n",
       "<path fill=\"none\" stroke=\"black\" d=\"M183,-95.13C183,-95.13 183,-60.28 183,-60.28\"/>\n",
       "<polygon fill=\"black\" stroke=\"black\" points=\"186.5,-60.28 183,-50.28 179.5,-60.28 186.5,-60.28\"/>\n",
       "<text text-anchor=\"middle\" x=\"136.88\" y=\"-80.9\" font-family=\"Times,serif\" font-size=\"14.00\">products.aisle_id</text>\n",
       "</g>\n",
       "<!-- departments -->\n",
       "<g id=\"node5\" class=\"node\">\n",
       "<title>departments</title>\n",
       "<polygon fill=\"none\" stroke=\"black\" points=\"213.62,-0.5 213.62,-49.5 445.62,-49.5 445.62,-0.5 213.62,-0.5\"/>\n",
       "<text text-anchor=\"middle\" x=\"329.62\" y=\"-32.2\" font-family=\"Times,serif\" font-size=\"14.00\">departments (21 rows)</text>\n",
       "<polyline fill=\"none\" stroke=\"black\" points=\"213.62,-25 445.62,-25\"/>\n",
       "<text text-anchor=\"start\" x=\"221.62\" y=\"-7.7\" font-family=\"Times,serif\" font-size=\"14.00\">products.department_id : Integer; index</text>\n",
       "</g>\n",
       "<!-- products&#45;&gt;departments -->\n",
       "<g id=\"edge4\" class=\"edge\">\n",
       "<title>products&#45;&gt;departments</title>\n",
       "<path fill=\"none\" stroke=\"black\" d=\"M328.06,-95.13C328.06,-95.13 328.06,-60.28 328.06,-60.28\"/>\n",
       "<polygon fill=\"black\" stroke=\"black\" points=\"331.56,-60.28 328.06,-50.28 324.56,-60.28 331.56,-60.28\"/>\n",
       "<text text-anchor=\"middle\" x=\"263.56\" y=\"-80.9\" font-family=\"Times,serif\" font-size=\"14.00\">products.department_id</text>\n",
       "</g>\n",
       "<!-- orders.user_id -->\n",
       "<g id=\"node6\" class=\"node\">\n",
       "<title>orders.user_id</title>\n",
       "<polygon fill=\"none\" stroke=\"black\" points=\"486.5,-0.5 486.5,-49.5 666.75,-49.5 666.75,-0.5 486.5,-0.5\"/>\n",
       "<text text-anchor=\"middle\" x=\"576.62\" y=\"-32.2\" font-family=\"Times,serif\" font-size=\"14.00\">orders.user_id (10000 rows)</text>\n",
       "<polyline fill=\"none\" stroke=\"black\" points=\"486.5,-25 666.75,-25\"/>\n",
       "<text text-anchor=\"start\" x=\"494.5\" y=\"-7.7\" font-family=\"Times,serif\" font-size=\"14.00\">orders.user_id : Integer; index</text>\n",
       "</g>\n",
       "<!-- orders&#45;&gt;orders.user_id -->\n",
       "<g id=\"edge5\" class=\"edge\">\n",
       "<title>orders&#45;&gt;orders.user_id</title>\n",
       "<path fill=\"none\" stroke=\"black\" d=\"M576.62,-86.8C576.62,-86.8 576.62,-60.35 576.62,-60.35\"/>\n",
       "<polygon fill=\"black\" stroke=\"black\" points=\"580.13,-60.35 576.62,-50.35 573.13,-60.35 580.13,-60.35\"/>\n",
       "<text text-anchor=\"middle\" x=\"538\" y=\"-60.27\" font-family=\"Times,serif\" font-size=\"14.00\">orders.user_id</text>\n",
       "</g>\n",
       "</g>\n",
       "</svg>\n"
      ],
      "text/plain": [
       "<graphviz.graphs.Digraph at 0x17aad4970>"
      ]
     },
     "execution_count": 13,
     "metadata": {},
     "output_type": "execute_result"
    }
   ],
   "source": [
    "import featuretools as ft\n",
    "\n",
    "es = ft.EntitySet(name)\n",
    "\n",
    "es.add_dataframe(\n",
    "    dataframe=df.reset_index(),\n",
    "    dataframe_name=\"order_products\",\n",
    "    time_index=\"orders.order_date\",\n",
    "    index=\"__id__\",\n",
    ")\n",
    "\n",
    "es.normalize_dataframe(\n",
    "    base_dataframe_name=\"order_products\",\n",
    "    new_dataframe_name=\"products\",\n",
    "    index=\"product_id\",\n",
    "    additional_columns=[\"products.aisle_id\", \"products.aisles.aisle\", \"products.department_id\", \"products.departments.department\", \"products.product_name\"],\n",
    "    make_time_index=False,\n",
    ")\n",
    "\n",
    "es.normalize_dataframe(\n",
    "    base_dataframe_name=\"order_products\",\n",
    "    new_dataframe_name=\"orders\",\n",
    "    index=\"order_id\",\n",
    "    additional_columns=[\"orders.user_id\", \"orders.eval_set\", \"orders.order_number\", \"orders.order_dow\", \"orders.order_hour_of_day\", \"orders.days_since_prior_order\"],\n",
    "    make_time_index=False,\n",
    ")\n",
    "\n",
    "es.normalize_dataframe(\n",
    "    base_dataframe_name=\"products\",\n",
    "    new_dataframe_name=\"aisles\",\n",
    "    index=\"products.aisle_id\",\n",
    "    make_time_index=False,\n",
    ")\n",
    "\n",
    "es.normalize_dataframe(\n",
    "    base_dataframe_name=\"products\",\n",
    "    new_dataframe_name=\"departments\",\n",
    "    index=\"products.department_id\",\n",
    "    make_time_index=False,\n",
    ")\n",
    "\n",
    "es.normalize_dataframe(\n",
    "    base_dataframe_name=\"orders\",\n",
    "    new_dataframe_name=\"orders.user_id\",\n",
    "    index=\"orders.user_id\",\n",
    "    make_time_index=False,\n",
    ")\n",
    "\n",
    "es.plot()"
   ]
  },
  {
   "cell_type": "code",
   "execution_count": 14,
   "metadata": {},
   "outputs": [
    {
     "name": "stdout",
     "output_type": "stream",
     "text": [
      "Built 170 features\n",
      "Elapsed: 02:33 | Progress: 100%|██████████\n"
     ]
    }
   ],
   "source": [
    "fm, fd = ft.dfs(\n",
    "    entityset=es,\n",
    "    target_dataframe_name=entity_col,\n",
    "    cutoff_time=ex,\n",
    "    cutoff_time_in_index=True,\n",
    "    include_cutoff_time=False,\n",
    "    verbose=True,\n",
    ")\n",
    "\n",
    "fm.reset_index(drop=True, inplace=True)\n",
    "y = fm.ww.pop('_execute_operations_on_df')\n",
    "X = fm"
   ]
  },
  {
   "cell_type": "markdown",
   "metadata": {},
   "source": [
    "### Machine Learning"
   ]
  },
  {
   "cell_type": "markdown",
   "metadata": {},
   "source": [
    "##### Train/Test split by time cutoff"
   ]
  },
  {
   "cell_type": "code",
   "execution_count": 16,
   "metadata": {},
   "outputs": [],
   "source": [
    "train_cutoff = pd.to_datetime(\"2023-09-01\")\n",
    "X_train, y_train = X[ex[\"time\"] <= train_cutoff], y[ex[\"time\"] <= train_cutoff]\n",
    "X_test, y_test = X[ex[\"time\"] > train_cutoff], y[ex[\"time\"] > train_cutoff]"
   ]
  },
  {
   "cell_type": "markdown",
   "metadata": {},
   "source": [
    "##### Train a model"
   ]
  },
  {
   "cell_type": "code",
   "execution_count": 17,
   "metadata": {},
   "outputs": [
    {
     "name": "stdout",
     "output_type": "stream",
     "text": [
      "[LightGBM] [Info] Number of positive: 11517, number of negative: 54026\n",
      "[LightGBM] [Warning] Auto-choosing row-wise multi-threading, the overhead of testing was 0.011355 seconds.\n",
      "You can set `force_row_wise=true` to remove the overhead.\n",
      "And if memory is not enough, you can set `force_col_wise=true`.\n",
      "[LightGBM] [Info] Total Bins 28861\n",
      "[LightGBM] [Info] Number of data points in the train set: 65543, number of used features: 161\n",
      "[LightGBM] [Info] [binary:BoostFromScore]: pavg=0.175717 -> initscore=-1.545641\n",
      "[LightGBM] [Info] Start training from score -1.545641\n"
     ]
    },
    {
     "data": {
      "text/html": [
       "<style>#sk-container-id-1 {color: black;}#sk-container-id-1 pre{padding: 0;}#sk-container-id-1 div.sk-toggleable {background-color: white;}#sk-container-id-1 label.sk-toggleable__label {cursor: pointer;display: block;width: 100%;margin-bottom: 0;padding: 0.3em;box-sizing: border-box;text-align: center;}#sk-container-id-1 label.sk-toggleable__label-arrow:before {content: \"▸\";float: left;margin-right: 0.25em;color: #696969;}#sk-container-id-1 label.sk-toggleable__label-arrow:hover:before {color: black;}#sk-container-id-1 div.sk-estimator:hover label.sk-toggleable__label-arrow:before {color: black;}#sk-container-id-1 div.sk-toggleable__content {max-height: 0;max-width: 0;overflow: hidden;text-align: left;background-color: #f0f8ff;}#sk-container-id-1 div.sk-toggleable__content pre {margin: 0.2em;color: black;border-radius: 0.25em;background-color: #f0f8ff;}#sk-container-id-1 input.sk-toggleable__control:checked~div.sk-toggleable__content {max-height: 200px;max-width: 100%;overflow: auto;}#sk-container-id-1 input.sk-toggleable__control:checked~label.sk-toggleable__label-arrow:before {content: \"▾\";}#sk-container-id-1 div.sk-estimator input.sk-toggleable__control:checked~label.sk-toggleable__label {background-color: #d4ebff;}#sk-container-id-1 div.sk-label input.sk-toggleable__control:checked~label.sk-toggleable__label {background-color: #d4ebff;}#sk-container-id-1 input.sk-hidden--visually {border: 0;clip: rect(1px 1px 1px 1px);clip: rect(1px, 1px, 1px, 1px);height: 1px;margin: -1px;overflow: hidden;padding: 0;position: absolute;width: 1px;}#sk-container-id-1 div.sk-estimator {font-family: monospace;background-color: #f0f8ff;border: 1px dotted black;border-radius: 0.25em;box-sizing: border-box;margin-bottom: 0.5em;}#sk-container-id-1 div.sk-estimator:hover {background-color: #d4ebff;}#sk-container-id-1 div.sk-parallel-item::after {content: \"\";width: 100%;border-bottom: 1px solid gray;flex-grow: 1;}#sk-container-id-1 div.sk-label:hover label.sk-toggleable__label {background-color: #d4ebff;}#sk-container-id-1 div.sk-serial::before {content: \"\";position: absolute;border-left: 1px solid gray;box-sizing: border-box;top: 0;bottom: 0;left: 50%;z-index: 0;}#sk-container-id-1 div.sk-serial {display: flex;flex-direction: column;align-items: center;background-color: white;padding-right: 0.2em;padding-left: 0.2em;position: relative;}#sk-container-id-1 div.sk-item {position: relative;z-index: 1;}#sk-container-id-1 div.sk-parallel {display: flex;align-items: stretch;justify-content: center;background-color: white;position: relative;}#sk-container-id-1 div.sk-item::before, #sk-container-id-1 div.sk-parallel-item::before {content: \"\";position: absolute;border-left: 1px solid gray;box-sizing: border-box;top: 0;bottom: 0;left: 50%;z-index: -1;}#sk-container-id-1 div.sk-parallel-item {display: flex;flex-direction: column;z-index: 1;position: relative;background-color: white;}#sk-container-id-1 div.sk-parallel-item:first-child::after {align-self: flex-end;width: 50%;}#sk-container-id-1 div.sk-parallel-item:last-child::after {align-self: flex-start;width: 50%;}#sk-container-id-1 div.sk-parallel-item:only-child::after {width: 0;}#sk-container-id-1 div.sk-dashed-wrapped {border: 1px dashed gray;margin: 0 0.4em 0.5em 0.4em;box-sizing: border-box;padding-bottom: 0.4em;background-color: white;}#sk-container-id-1 div.sk-label label {font-family: monospace;font-weight: bold;display: inline-block;line-height: 1.2em;}#sk-container-id-1 div.sk-label-container {text-align: center;}#sk-container-id-1 div.sk-container {/* jupyter's `normalize.less` sets `[hidden] { display: none; }` but bootstrap.min.css set `[hidden] { display: none !important; }` so we also need the `!important` here to be able to override the default hidden behavior on the sphinx rendered scikit-learn.org. See: https://github.com/scikit-learn/scikit-learn/issues/21755 */display: inline-block !important;position: relative;}#sk-container-id-1 div.sk-text-repr-fallback {display: none;}</style><div id=\"sk-container-id-1\" class=\"sk-top-container\"><div class=\"sk-text-repr-fallback\"><pre>LGBMClassifier()</pre><b>In a Jupyter environment, please rerun this cell to show the HTML representation or trust the notebook. <br />On GitHub, the HTML representation is unable to render, please try loading this page with nbviewer.org.</b></div><div class=\"sk-container\" hidden><div class=\"sk-item\"><div class=\"sk-estimator sk-toggleable\"><input class=\"sk-toggleable__control sk-hidden--visually\" id=\"sk-estimator-id-1\" type=\"checkbox\" checked><label for=\"sk-estimator-id-1\" class=\"sk-toggleable__label sk-toggleable__label-arrow\">LGBMClassifier</label><div class=\"sk-toggleable__content\"><pre>LGBMClassifier()</pre></div></div></div></div></div>"
      ],
      "text/plain": [
       "LGBMClassifier()"
      ]
     },
     "execution_count": 17,
     "metadata": {},
     "output_type": "execute_result"
    }
   ],
   "source": [
    "import lightgbm as lgb\n",
    "model = lgb.LGBMClassifier()\n",
    "\n",
    "model.fit(X_train, y_train)"
   ]
  },
  {
   "cell_type": "markdown",
   "metadata": {},
   "source": [
    "##### Run inference on the test set"
   ]
  },
  {
   "cell_type": "code",
   "execution_count": 18,
   "metadata": {},
   "outputs": [],
   "source": [
    "y_hat = model.predict(X_test)"
   ]
  },
  {
   "cell_type": "markdown",
   "metadata": {},
   "source": [
    "##### Evaluate model on the test set"
   ]
  },
  {
   "cell_type": "code",
   "execution_count": 20,
   "metadata": {},
   "outputs": [],
   "source": [
    "from sklearn.metrics import confusion_matrix\n",
    "import seaborn as sns\n",
    "import matplotlib.pyplot as plt\n",
    "import numpy as np\n",
    "\n",
    "def plot_confusion_matrix(y_true, y_pred):\n",
    "    cm = confusion_matrix(y_true, y_pred)\n",
    "    ax = sns.heatmap(cm, annot=True, fmt=\"d\", cmap=\"Blues\", cbar=False)\n",
    "    ax.set_xlabel(\"Predicted\")\n",
    "    ax.set_ylabel(\"Actual\")\n",
    "    plt.show()"
   ]
  },
  {
   "cell_type": "code",
   "execution_count": 21,
   "metadata": {},
   "outputs": [
    {
     "data": {
      "image/png": "[encoded data removed]",
      "text/plain": [
       "<Figure size 640x480 with 1 Axes>"
      ]
     },
     "metadata": {},
     "output_type": "display_data"
    }
   ],
   "source": [
    "%matplotlib inline\n",
    "plot_confusion_matrix(y_test, y_hat)"
   ]
  },
  {
   "cell_type": "code",
   "execution_count": 23,
   "metadata": {},
   "outputs": [
    {
     "name": "stdout",
     "output_type": "stream",
     "text": [
      "AUC: 0.59\n",
      "F1 Score: 0.3\n",
      "Accuracy: 0.84\n"
     ]
    }
   ],
   "source": [
    "from sklearn.metrics import roc_auc_score, f1_score, accuracy_score\n",
    "print(f\"AUC: {round(roc_auc_score(y_test, y_hat), 2)}\")\n",
    "print(f\"F1 Score: {round(f1_score(y_test, y_hat), 2)}\")\n",
    "print(f\"Accuracy: {round(accuracy_score(y_test, y_hat), 2)}\")"
   ]
  }
 ],
 "metadata": {
  "kernelspec": {
   "display_name": "trane",
   "language": "python",
   "name": "python3"
  },
  "language_info": {
   "codemirror_mode": {
    "name": "ipython",
    "version": 3
   },
   "file_extension": ".py",
   "mimetype": "text/x-python",
   "name": "python",
   "nbconvert_exporter": "python",
   "pygments_lexer": "ipython3",
   "version": "3.10.12"
  },
  "orig_nbformat": 4
 },
 "nbformat": 4,
 "nbformat_minor": 2
}
