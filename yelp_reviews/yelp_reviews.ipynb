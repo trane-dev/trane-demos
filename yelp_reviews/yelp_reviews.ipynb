{
 "cells": [
  {
   "cell_type": "code",
   "execution_count": 71,
   "metadata": {},
   "outputs": [],
   "source": [
    "from util import load_data\n",
    "\n",
    "name = 'yelp_reviews'\n",
    "\n",
    "dataframes, relationships = load_data()\n",
    "target_entity = \"review\"\n",
    "\n",
    "entity_col = \"review_id\"\n",
    "time_col = \"date\"\n",
    "\n",
    "window_size = \"1m\"\n",
    "minimum_data = dataframes[\"review\"][0][\"date\"].min()\n",
    "maximum_data = dataframes[\"review\"][0][\"date\"].max()"
   ]
  },
  {
   "cell_type": "markdown",
   "metadata": {},
   "source": [
    "### Load data"
   ]
  },
  {
   "cell_type": "code",
   "execution_count": 72,
   "metadata": {},
   "outputs": [],
   "source": [
    "from trane.parsing import denormalize\n",
    "import pandas as pd\n",
    "\n",
    "df = denormalize(\n",
    "    dataframes,\n",
    "    relationships,\n",
    "    target_entity\n",
    ")\n",
    "df = df.drop([\"business.categories\", \"business.neighborhoods\"], axis=1)\n",
    "df = df.dropna()"
   ]
  },
  {
   "cell_type": "markdown",
   "metadata": {},
   "source": [
    "## Trane"
   ]
  },
  {
   "cell_type": "markdown",
   "metadata": {},
   "source": [
    "#### Generate prediction problems"
   ]
  },
  {
   "cell_type": "code",
   "execution_count": 73,
   "metadata": {},
   "outputs": [
    {
     "data": {
      "application/vnd.jupyter.widget-view+json": {
       "model_id": "995d5fc3aa654d05be089140a4f4e128",
       "version_major": 2,
       "version_minor": 0
      },
      "text/plain": [
       "  0%|          | 0/895907 [00:00<?, ?it/s]"
      ]
     },
     "metadata": {},
     "output_type": "display_data"
    }
   ],
   "source": [
    "from trane import CutoffStrategy\n",
    "from util import get_meta\n",
    "\n",
    "meta = get_meta(df, entity_col)\n",
    "\n",
    "cutoff_strategy = CutoffStrategy(\n",
    "    entity_col=entity_col,\n",
    "    window_size=window_size,\n",
    "    minimum_data=minimum_data,\n",
    "    maximum_data=maximum_data,\n",
    ")\n",
    "\n",
    "from trane import PredictionProblemGenerator\n",
    "problem_generator = PredictionProblemGenerator(\n",
    "    df=df,\n",
    "    table_meta=meta,\n",
    "    entity_col=entity_col,\n",
    "    cutoff_strategy=cutoff_strategy,\n",
    "    time_col=time_col,\n",
    ")\n",
    "problems = problem_generator.generate(df, generate_thresholds=True)"
   ]
  },
  {
   "cell_type": "markdown",
   "metadata": {},
   "source": [
    "Find a relevant problem"
   ]
  },
  {
   "cell_type": "code",
   "execution_count": null,
   "metadata": {},
   "outputs": [],
   "source": [
    "with open(\"generated_problems.txt\", \"w\") as text_file:\n",
    "    for idx, p in enumerate(problems):\n",
    "        print(idx, p, file=text_file)"
   ]
  },
  {
   "cell_type": "code",
   "execution_count": null,
   "metadata": {},
   "outputs": [],
   "source": [
    "ex = problems[3781].execute(df, num_examples_per_instance=-1)\n",
    "problems[3781]"
   ]
  },
  {
   "cell_type": "markdown",
   "metadata": {},
   "source": [
    "#### Generate features"
   ]
  },
  {
   "cell_type": "code",
   "execution_count": null,
   "metadata": {},
   "outputs": [],
   "source": [
    "from featuretools_util import get_features\n",
    "\n",
    "X, y = get_features(\n",
    "    name=name,\n",
    "    df=df,\n",
    "    target_entity=target_entity,\n",
    "    entity_col=entity_col,\n",
    "    time_index=time_col,\n",
    "    relationships=relationships,\n",
    "    cutoff_time=ex\n",
    ")\n",
    "\n",
    "X.head()"
   ]
  }
 ],
 "metadata": {
  "kernelspec": {
   "display_name": "trane2",
   "language": "python",
   "name": "python3"
  },
  "language_info": {
   "codemirror_mode": {
    "name": "ipython",
    "version": 3
   },
   "file_extension": ".py",
   "mimetype": "text/x-python",
   "name": "python",
   "nbconvert_exporter": "python",
   "pygments_lexer": "ipython3",
   "version": "3.10.12"
  },
  "orig_nbformat": 4
 },
 "nbformat": 4,
 "nbformat_minor": 2
}
