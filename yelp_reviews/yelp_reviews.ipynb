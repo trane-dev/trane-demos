{
 "cells": [
  {
   "cell_type": "code",
   "execution_count": 1,
   "metadata": {},
   "outputs": [],
   "source": [
    "from utils import load_data\n",
    "dataframes, metadata = load_data()"
   ]
  },
  {
   "cell_type": "code",
   "execution_count": 2,
   "metadata": {},
   "outputs": [],
   "source": [
    "target_table = \"review\"\n",
    "entity_columns = [\"business_id\", None]\n",
    "time_column = \"date\"\n",
    "window_size = None\n",
    "\n",
    "minimum_data = \"2011-01-01\"\n",
    "maximum_data = dataframes[\"review\"][\"date\"].max()"
   ]
  },
  {
   "cell_type": "markdown",
   "metadata": {},
   "source": [
    "## Trane"
   ]
  },
  {
   "cell_type": "markdown",
   "metadata": {},
   "source": [
    "#### Generate prediction problems"
   ]
  },
  {
   "cell_type": "code",
   "execution_count": 6,
   "metadata": {},
   "outputs": [],
   "source": [
    "from trane import ProblemGenerator\n",
    "\n",
    "problem_generator = ProblemGenerator(\n",
    "    metadata=metadata,\n",
    "    window_size=window_size,\n",
    "    target_table=target_table,\n",
    "    entity_columns=entity_columns,\n",
    ")\n",
    "problems = problem_generator.generate()"
   ]
  },
  {
   "cell_type": "code",
   "execution_count": 7,
   "metadata": {},
   "outputs": [
    {
     "name": "stdout",
     "output_type": "stream",
     "text": [
      "generated 9180 problems from 10 columns\n"
     ]
    }
   ],
   "source": [
    "num_columns = dataframes[target_table].shape[1]\n",
    "print(f\"generated {len(problems)} problems from {num_columns} columns\")"
   ]
  },
  {
   "cell_type": "code",
   "execution_count": 13,
   "metadata": {
    "scrolled": true
   },
   "outputs": [
    {
     "name": "stdout",
     "output_type": "stream",
     "text": [
      "For each <business_id> predict the total <business.review_count> in all related records with <business.review_count> less than <None>\n",
      "Predict the total <user.review_count> in all related records with <type> equal to <None>\n",
      "For each <business_id> predict the last <business.name> in all related records with <business.type> not equal to <None>\n",
      "For each <business_id> predict the total <user.votes_funny> in all related records\n",
      "Predict the majority <business.state> in all related records with <type> not equal to <None>\n",
      "For each <business_id> predict the last <business.name> in all related records with <user.name> not equal to <None>\n",
      "For each <business_id> predict the total <user.votes_cool> in all related records with <votes_funny> less than <None>\n",
      "Predict the average <business.stars> in all related records with <user.name> not equal to <None>\n",
      "Predict the last <business_id> in all related records with <business.state> equal to <None>\n",
      "For each <business_id> predict the first <business.city> in all related records with <business.city> equal to <None>\n",
      "Predict the last <business.type> in all related records with <user.votes_cool> less than <None>\n",
      "Predict the majority <business.state> in all related records with <user.votes_cool> less than <None>\n",
      "For each <business_id> predict the first <business.state> in all related records with <user.name> equal to <None>\n",
      "Predict the first <user_id> in all related records with <business.categories> not equal to <None>\n",
      "Predict the last <user.name> in all related records with <business.longitude> greater than <None>\n",
      "Predict the minimum <stars> in all related records with <user.votes_useful> greater than <None>\n",
      "For each <business_id> predict the average <votes_cool> in all related records with <business.state> equal to <None>\n",
      "For each <business_id> predict the number of records with <stars> greater than <None>\n",
      "Predict the total <user.average_stars> in all related records with <business.review_count> less than <None>\n",
      "Predict the total <user.average_stars> in all related records with <user.votes_cool> greater than <None>\n",
      "For each <business_id> predict the first <type> in all related records with <stars> greater than <None>\n",
      "Predict the majority <business_id> in all related records with <user.votes_useful> greater than <None>\n",
      "Predict the total <votes_cool> in all related records with <user.average_stars> greater than <None>\n",
      "Predict the minimum <votes_cool> in all related records with <user_id> not equal to <None>\n",
      "For each <business_id> predict the minimum <user.votes_useful> in all related records with <user.votes_funny> less than <None>\n",
      "Predict the majority <user.type> in all related records with <votes_funny> greater than <None>\n",
      "For each <business_id> predict the total <business.longitude> in all related records\n",
      "Predict the first <business.categories> in all related records with <business.stars> greater than <None>\n",
      "For each <business_id> predict the minimum <user.votes_useful> in all related records with <votes_funny> less than <None>\n",
      "Predict the majority <business.city> in all related records with <votes_cool> less than <None>\n",
      "Predict the minimum <votes_cool> in all related records with <business.stars> greater than <None>\n",
      "For each <business_id> predict the last <type> in all related records with <business_id> equal to <None>\n",
      "For each <business_id> predict the minimum <user.votes_cool> in all related records with <stars> greater than <None>\n",
      "For each <business_id> predict the first <user_id> in all related records with <business_id> equal to <None>\n",
      "Predict the last <business.state> in all related records with <stars> greater than <None>\n",
      "For each <business_id> predict the first <user.name> in all related records with <stars> greater than <None>\n",
      "Predict the minimum <user.votes_funny> in all related records with <business_id> not equal to <None>\n",
      "For each <business_id> predict the first <user.name> in all related records with <business.latitude> less than <None>\n",
      "Predict the maximum <business.latitude> in all related records with <user.name> not equal to <None>\n",
      "For each <business_id> predict the minimum <user.votes_funny> in all related records with <user.type> equal to <None>\n",
      "For each <business_id> predict the average <votes_useful> in all related records with <user_id> equal to <None>\n",
      "For each <business_id> predict the minimum <business.longitude> in all related records with <user.votes_cool> greater than <None>\n",
      "For each <business_id> predict the total <user.votes_cool> in all related records with <stars> less than <None>\n",
      "For each <business_id> predict the total <votes_cool> in all related records with <business.state> equal to <None>\n",
      "For each <business_id> predict the last <business.categories> in all related records with <business.neighborhoods> equal to <None>\n",
      "For each <business_id> predict the average <user.average_stars> in all related records with <business.longitude> less than <None>\n",
      "For each <business_id> predict the total <votes_funny> in all related records with <business.latitude> less than <None>\n",
      "For each <business_id> predict the total <user.votes_cool> in all related records with <business.stars> greater than <None>\n",
      "Predict the average <user.votes_cool> in all related records with <business.stars> greater than <None>\n",
      "For each <business_id> predict the total <user.votes_cool> in all related records with <business.longitude> less than <None>\n",
      "Predict the maximum <business.latitude> in all related records with <business.neighborhoods> not equal to <None>\n",
      "Predict the minimum <user.votes_cool> in all related records with <business.latitude> less than <None>\n",
      "For each <business_id> predict the maximum <business.latitude> in all related records with <business.neighborhoods> equal to <None>\n",
      "Predict the maximum <stars> in all related records with <business.review_count> less than <None>\n",
      "Predict the first <business.categories> in all related records with <user.name> not equal to <None>\n",
      "Predict the first <business.state> in all related records with <business.name> equal to <None>\n",
      "For each <business_id> predict the first <business.state> in all related records with <business.type> equal to <None>\n",
      "Predict the majority <business.name> in all related records with <business.latitude> less than <None>\n",
      "For each <business_id> predict the average <user.votes_useful> in all related records with <user.name> not equal to <None>\n",
      "Predict the majority <business.neighborhoods> in all related records with <business.stars> greater than <None>\n",
      "Predict the last <type> in all related records with <business.name> equal to <None>\n",
      "For each <business_id> predict the first <type> in all related records with <user.votes_useful> greater than <None>\n",
      "For each <business_id> predict the average <votes_funny> in all related records with <user.average_stars> greater than <None>\n",
      "Predict the maximum <votes_useful> in all related records with <business.type> equal to <None>\n",
      "For each <business_id> predict the maximum <stars> in all related records with <user.average_stars> less than <None>\n",
      "Predict the average <business.review_count> in all related records with <user.votes_cool> greater than <None>\n",
      "Predict the minimum <user.average_stars> in all related records with <business.city> equal to <None>\n",
      "Predict the number of records with <user_id> not equal to <None>\n",
      "For each <business_id> predict the last <business.name> in all related records with <business.city> not equal to <None>\n",
      "Predict the majority <business.categories> in all related records with <user.votes_funny> less than <None>\n",
      "For each <business_id> predict the average <user.votes_useful> in all related records with <type> not equal to <None>\n",
      "Predict the last <business.neighborhoods> in all related records with <user.votes_cool> less than <None>\n",
      "For each <business_id> predict the minimum <stars> in all related records with <business.categories> not equal to <None>\n",
      "For each <business_id> predict the average <business.latitude> in all related records with <user.votes_useful> less than <None>\n",
      "Predict the total <user.votes_funny> in all related records\n",
      "For each <business_id> predict the first <business.name> in all related records with <business.name> not equal to <None>\n",
      "For each <business_id> predict the first <user.name> in all related records with <user.name> equal to <None>\n",
      "Predict the last <business.state> in all related records with <business.name> equal to <None>\n",
      "Predict the last <business.neighborhoods> in all related records with <votes_funny> less than <None>\n",
      "For each <business_id> predict the maximum <user.votes_cool> in all related records with <user.votes_useful> less than <None>\n",
      "For each <business_id> predict the average <business.stars> in all related records with <stars> less than <None>\n",
      "Predict the minimum <stars> in all related records with <votes_useful> less than <None>\n",
      "For each <business_id> predict the total <user.votes_cool> in all related records with <user.votes_useful> less than <None>\n",
      "For each <business_id> predict the average <business.latitude> in all related records with <votes_funny> less than <None>\n",
      "For each <business_id> predict the last <type> in all related records with <user.review_count> less than <None>\n",
      "Predict the average <business.longitude> in all related records with <business.stars> greater than <None>\n",
      "Predict the first <business.checkin.type> in all related records with <user.average_stars> less than <None>\n",
      "Predict the average <business.stars> in all related records with <business.checkin.type> not equal to <None>\n",
      "For each <business_id> predict the first <business_id> in all related records with <business.neighborhoods> not equal to <None>\n",
      "Predict the total <user.votes_funny> in all related records with <user.average_stars> less than <None>\n",
      "Predict the average <votes_useful> in all related records with <business.state> equal to <None>\n",
      "For each <business_id> predict the majority <business.checkin.type> in all related records with <business.stars> less than <None>\n",
      "For each <business_id> predict the maximum <user.votes_useful> in all related records with <business.categories> not equal to <None>\n",
      "For each <business_id> predict the maximum <user.review_count> in all related records with <business.categories> not equal to <None>\n",
      "For each <business_id> predict the first <business.type> in all related records with <user_id> equal to <None>\n",
      "Predict the maximum <business.review_count> in all related records with <user.votes_funny> less than <None>\n",
      "For each <business_id> predict the total <user.average_stars> in all related records with <business.categories> not equal to <None>\n",
      "For each <business_id> predict the minimum <business.stars> in all related records with <user.average_stars> less than <None>\n",
      "For each <business_id> predict the last <user.name> in all related records with <stars> less than <None>\n",
      "Predict the average <business.stars> in all related records with <votes_cool> less than <None>\n"
     ]
    }
   ],
   "source": [
    "from random import sample\n",
    "  \n",
    "for problem in sample(problems, 100):\n",
    "    print(problem)"
   ]
  },
  {
   "cell_type": "markdown",
   "metadata": {},
   "source": [
    "For each <business_id> predict the total <business.review_count> in all related records with <business.review_count> less than <None>: Understanding the total review count can be helpful in determining how much attention a business is getting. This can help in marketing and customer engagement strategies.\n",
    "\n",
    "For each <business_id> predict the average <business.stars> in all related records with <user.name> not equal to <None>: The average star rating is a critical metric for understanding how well a business is performing in terms of customer satisfaction.\n",
    "\n",
    "Predict the majority <business.state> in all related records with <type> not equal to <None>: Knowing which state has the majority of businesses can be useful for regional analysis and market penetration strategies.\n",
    "\n",
    "For each <business_id> predict the number of records with <stars> greater than <None>: This would allow businesses to understand how many positive reviews they have, which could be crucial for their reputation management.\n",
    "\n",
    "Predict the total <user.review_count> in all related records with <type> equal to <None>: Understanding user engagement level can be critical for community building and targeted marketing. This metric can help identify highly engaged users."
   ]
  },
  {
   "cell_type": "code",
   "execution_count": null,
   "metadata": {},
   "outputs": [],
   "source": [
    "df = df.sort_values(\"date\")"
   ]
  },
  {
   "cell_type": "code",
   "execution_count": null,
   "metadata": {},
   "outputs": [],
   "source": [
    "ex = problems[138].execute(df, num_examples_per_instance=1)\n",
    "problems[138]"
   ]
  },
  {
   "cell_type": "markdown",
   "metadata": {},
   "source": [
    "#### Generate features"
   ]
  },
  {
   "cell_type": "code",
   "execution_count": null,
   "metadata": {},
   "outputs": [],
   "source": [
    "import sys, os\n",
    "del sys.modules[\"featuretools_util\"]\n",
    "del get_features\n",
    "\n",
    "from featuretools_util import get_features\n",
    "\n",
    "X, y, es = get_features(\n",
    "    name=name,\n",
    "    df=df,\n",
    "    target_entity=target_entity,\n",
    "    entity_col=entity_col,\n",
    "    time_index=time_col,\n",
    "    relationships=relationships,\n",
    "    cutoff_time=ex\n",
    ")\n",
    "\n",
    "X.head()"
   ]
  },
  {
   "cell_type": "code",
   "execution_count": null,
   "metadata": {},
   "outputs": [],
   "source": [
    "es.plot()"
   ]
  },
  {
   "cell_type": "markdown",
   "metadata": {},
   "source": [
    "### AutoML"
   ]
  },
  {
   "cell_type": "markdown",
   "metadata": {},
   "source": [
    "#### BTB"
   ]
  },
  {
   "cell_type": "code",
   "execution_count": null,
   "metadata": {},
   "outputs": [],
   "source": [
    "from baytune_util import automl\n",
    "\n",
    "automl(X, y)"
   ]
  },
  {
   "cell_type": "code",
   "execution_count": null,
   "metadata": {},
   "outputs": [],
   "source": []
  }
 ],
 "metadata": {
  "kernelspec": {
   "display_name": "Python 3 (ipykernel)",
   "language": "python",
   "name": "python3"
  },
  "language_info": {
   "codemirror_mode": {
    "name": "ipython",
    "version": 3
   },
   "file_extension": ".py",
   "mimetype": "text/x-python",
   "name": "python",
   "nbconvert_exporter": "python",
   "pygments_lexer": "ipython3",
   "version": "3.11.4"
  }
 },
 "nbformat": 4,
 "nbformat_minor": 4
}
