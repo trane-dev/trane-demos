{
 "cells": [
  {
   "cell_type": "code",
   "execution_count": 1,
   "id": "3119d850-ee02-442f-ba75-824605a17aac",
   "metadata": {},
   "outputs": [],
   "source": [
    "from utils import load_data\n",
    "dataframes, metadata = load_data(nrows=5000)"
   ]
  },
  {
   "cell_type": "code",
   "execution_count": 2,
   "id": "0e31fa06-d778-4fb1-83aa-a67e77e46d8a",
   "metadata": {},
   "outputs": [],
   "source": [
    "target_table = 'meter_readings'\n",
    "entity_columns = ['building_id']"
   ]
  },
  {
   "cell_type": "code",
   "execution_count": 4,
   "id": "58935c05-d6d4-468c-8727-b92adedceef0",
   "metadata": {},
   "outputs": [],
   "source": [
    "from trane import ProblemGenerator\n",
    "\n",
    "problem_generator = ProblemGenerator(\n",
    "    metadata=metadata,\n",
    "    target_table=target_table,\n",
    "    entity_columns=entity_columns,\n",
    ")\n",
    "problems = problem_generator.generate()"
   ]
  },
  {
   "cell_type": "code",
   "execution_count": 5,
   "id": "3dff6c1f-b9c6-46eb-be2e-d19bb802563c",
   "metadata": {},
   "outputs": [
    {
     "name": "stdout",
     "output_type": "stream",
     "text": [
      "generated 1891 problems from 5 columns\n"
     ]
    }
   ],
   "source": [
    "num_columns = dataframes[target_table].shape[1]\n",
    "print(f\"generated {len(problems)} problems from {num_columns} columns\")"
   ]
  },
  {
   "cell_type": "code",
   "execution_count": 7,
   "id": "55152a3f-37d2-4f1e-aa71-ad97195a41f4",
   "metadata": {},
   "outputs": [
    {
     "name": "stdout",
     "output_type": "stream",
     "text": [
      "For each <building_id> predict the average <building_id> in all related records with <building.square_feet> greater than <None>\n",
      "For each <building_id> predict the average <building.weather.air_temperature> in all related records with <building.floor_count> greater than <None>\n",
      "For each <building_id> predict the maximum <building.weather.dew_temperature> in all related records with <meter_reading> less than <None>\n",
      "For each <building_id> predict the minimum <building.floor_count> in all related records with <building.weather.dew_temperature> greater than <None>\n",
      "For each <building_id> predict the minimum <building.weather.sea_level_pressure> in all related records with <building.weather.dew_temperature> greater than <None>\n",
      "For each <building_id> predict the minimum <building.weather.wind_direction> in all related records with <building.weather.cloud_coverage> greater than <None>\n",
      "For each <building_id> predict the total <building.square_feet> in all related records with <building.weather.dew_temperature> greater than <None>\n",
      "For each <building_id> predict the average <building.weather.sea_level_pressure> in all related records with <meter> less than <None>\n",
      "For each <building_id> predict the total <building.weather.wind_direction> in all related records with <building.primary_use> equal to <None>\n",
      "For each <building_id> predict the average <building.weather.air_temperature> in all related records with <building.year_built> greater than <None>\n",
      "For each <building_id> predict the minimum <building.weather.precip_depth_1_hr> in all related records with <building.floor_count> less than <None>\n",
      "For each <building_id> predict the total <building_id> in all related records with <building.weather.dew_temperature> greater than <None>\n",
      "For each <building_id> predict the total <building.year_built> in all related records with <building.primary_use> not equal to <None>\n",
      "For each <building_id> predict the total <meter_reading> in all related records with <building.weather.air_temperature> greater than <None>\n",
      "For each <building_id> predict the total <building.site_id> in all related records with <building.square_feet> greater than <None>\n",
      "For each <building_id> predict the minimum <building.weather.precip_depth_1_hr> in all related records with <building.weather.precip_depth_1_hr> less than <None>\n",
      "For each <building_id> predict the maximum <building.weather.air_temperature> in all related records with <building.square_feet> less than <None>\n",
      "For each <building_id> predict the average <meter_reading> in all related records with <building.weather.air_temperature> less than <None>\n",
      "For each <building_id> predict the average <building_id> in all related records with <building.weather.sea_level_pressure> less than <None>\n",
      "For each <building_id> predict the maximum <building.weather.sea_level_pressure> in all related records with <building.weather.wind_direction> less than <None>\n",
      "For each <building_id> predict the maximum <building_id> in all related records with <building.weather.dew_temperature> less than <None>\n",
      "For each <building_id> predict the maximum <building.weather.sea_level_pressure> in all related records with <building.primary_use> equal to <None>\n",
      "For each <building_id> predict the total <building_id> in all related records with <building.weather.wind_direction> less than <None>\n",
      "For each <building_id> predict the total <building.site_id> in all related records with <building.floor_count> less than <None>\n",
      "For each <building_id> predict the minimum <meter_reading> in all related records with <building_id> greater than <None>\n",
      "For each <building_id> predict the maximum <building.floor_count> in all related records with <meter_reading> less than <None>\n",
      "For each <building_id> predict the average <meter_reading> in all related records\n",
      "For each <building_id> predict the average <building.weather.sea_level_pressure> in all related records with <building.floor_count> greater than <None>\n",
      "For each <building_id> predict the minimum <building.site_id> in all related records with <building.square_feet> greater than <None>\n",
      "For each <building_id> predict the average <building.weather.wind_direction> in all related records with <building.weather.wind_direction> less than <None>\n",
      "For each <building_id> predict the total <building.square_feet> in all related records with <building.floor_count> less than <None>\n",
      "For each <building_id> predict the minimum <building.weather.wind_direction> in all related records with <building.weather.cloud_coverage> less than <None>\n",
      "For each <building_id> predict the maximum <building.weather.precip_depth_1_hr> in all related records with <building.weather.wind_speed> greater than <None>\n",
      "For each <building_id> predict the minimum <meter_reading> in all related records with <meter> greater than <None>\n",
      "For each <building_id> predict the last <building.primary_use> in all related records with <building.year_built> less than <None>\n",
      "For each <building_id> predict the minimum <meter_reading> in all related records with <building.floor_count> greater than <None>\n",
      "For each <building_id> predict the minimum <building.weather.cloud_coverage> in all related records with <building.weather.cloud_coverage> greater than <None>\n",
      "For each <building_id> predict the average <building.weather.air_temperature> in all related records with <meter> greater than <None>\n",
      "For each <building_id> predict the maximum <building.floor_count> in all related records with <building.weather.precip_depth_1_hr> greater than <None>\n",
      "For each <building_id> predict the last <building.primary_use> in all related records with <building.square_feet> less than <None>\n",
      "For each <building_id> predict the minimum <building.square_feet> in all related records with <building.square_feet> greater than <None>\n",
      "For each <building_id> predict the maximum <building.square_feet> in all related records\n",
      "For each <building_id> predict the total <building.weather.cloud_coverage> in all related records with <building.weather.sea_level_pressure> greater than <None>\n",
      "For each <building_id> predict the minimum <building.weather.dew_temperature> in all related records with <meter> less than <None>\n",
      "For each <building_id> predict the total <building_id> in all related records with <building.site_id> greater than <None>\n",
      "For each <building_id> predict the first <building.primary_use> in all related records with <building.weather.dew_temperature> less than <None>\n",
      "For each <building_id> predict the maximum <building.weather.dew_temperature> in all related records with <building.site_id> less than <None>\n",
      "For each <building_id> predict the maximum <meter_reading> in all related records with <building.floor_count> greater than <None>\n",
      "For each <building_id> predict the maximum <building.weather.sea_level_pressure> in all related records with <building.weather.sea_level_pressure> less than <None>\n",
      "For each <building_id> predict the average <building.weather.sea_level_pressure> in all related records with <building.square_feet> less than <None>\n",
      "For each <building_id> predict the average <building.site_id> in all related records with <building.weather.wind_speed> greater than <None>\n",
      "For each <building_id> predict the minimum <building.floor_count> in all related records with <building.primary_use> not equal to <None>\n",
      "For each <building_id> predict the maximum <building.floor_count> in all related records with <meter_reading> greater than <None>\n",
      "For each <building_id> predict the minimum <building.weather.air_temperature> in all related records with <building.weather.wind_direction> greater than <None>\n",
      "For each <building_id> predict the minimum <building.weather.wind_speed> in all related records with <building.year_built> less than <None>\n",
      "For each <building_id> predict the total <building.weather.sea_level_pressure> in all related records with <building.weather.sea_level_pressure> less than <None>\n",
      "For each <building_id> predict the average <building.weather.sea_level_pressure> in all related records with <building.weather.precip_depth_1_hr> greater than <None>\n",
      "For each <building_id> predict the minimum <building.weather.sea_level_pressure> in all related records with <building.weather.precip_depth_1_hr> greater than <None>\n",
      "For each <building_id> predict the maximum <building.square_feet> in all related records with <building.site_id> less than <None>\n",
      "For each <building_id> predict the average <meter_reading> in all related records with <building.site_id> less than <None>\n",
      "For each <building_id> predict the maximum <meter> in all related records with <building.year_built> less than <None>\n",
      "For each <building_id> predict the maximum <building.weather.air_temperature> in all related records with <building.weather.cloud_coverage> less than <None>\n",
      "For each <building_id> predict the total <building.year_built> in all related records with <building.year_built> greater than <None>\n",
      "For each <building_id> predict the maximum <building.weather.sea_level_pressure> in all related records with <building.floor_count> less than <None>\n",
      "For each <building_id> predict the average <building.weather.wind_speed> in all related records with <building.square_feet> greater than <None>\n",
      "For each <building_id> predict the total <building.weather.wind_direction> in all related records with <meter_reading> greater than <None>\n",
      "For each <building_id> predict the average <building_id> in all related records with <building.weather.precip_depth_1_hr> greater than <None>\n",
      "For each <building_id> predict the last <building.primary_use> in all related records with <building.primary_use> not equal to <None>\n",
      "For each <building_id> predict the minimum <building.weather.wind_direction> in all related records with <building.floor_count> greater than <None>\n",
      "For each <building_id> predict the average <building.floor_count> in all related records with <building.weather.air_temperature> greater than <None>\n",
      "For each <building_id> predict the last <building.primary_use> in all related records with <building.floor_count> greater than <None>\n",
      "For each <building_id> predict the total <building.year_built> in all related records with <building.weather.wind_speed> greater than <None>\n",
      "For each <building_id> predict the average <building.weather.dew_temperature> in all related records\n",
      "For each <building_id> predict the total <building_id> in all related records with <building.floor_count> greater than <None>\n",
      "For each <building_id> predict the minimum <building.weather.cloud_coverage> in all related records with <building.weather.wind_speed> greater than <None>\n",
      "For each <building_id> predict the majority <building.primary_use> in all related records with <building.weather.wind_speed> greater than <None>\n",
      "For each <building_id> predict the total <meter> in all related records with <building.weather.air_temperature> greater than <None>\n",
      "For each <building_id> predict the total <building.site_id> in all related records with <building.weather.precip_depth_1_hr> greater than <None>\n",
      "For each <building_id> predict the total <building.site_id> in all related records with <building.weather.dew_temperature> less than <None>\n",
      "For each <building_id> predict the average <meter> in all related records with <building.weather.dew_temperature> less than <None>\n",
      "For each <building_id> predict the total <building.square_feet> in all related records with <meter_reading> less than <None>\n",
      "For each <building_id> predict the average <building.weather.sea_level_pressure> in all related records with <meter_reading> greater than <None>\n",
      "For each <building_id> predict the total <building.year_built> in all related records with <building.year_built> less than <None>\n",
      "For each <building_id> predict the number of records with <building.primary_use> not equal to <None>\n",
      "For each <building_id> predict the minimum <building.weather.sea_level_pressure> in all related records with <building.weather.wind_speed> less than <None>\n",
      "For each <building_id> predict the total <building_id> in all related records with <building.site_id> less than <None>\n",
      "For each <building_id> predict the minimum <building.weather.precip_depth_1_hr> in all related records with <building.primary_use> equal to <None>\n",
      "For each <building_id> predict the average <building.year_built> in all related records with <meter_reading> greater than <None>\n",
      "For each <building_id> predict the total <building.weather.air_temperature> in all related records with <building_id> greater than <None>\n",
      "For each <building_id> predict the maximum <meter> in all related records with <building.weather.dew_temperature> greater than <None>\n",
      "For each <building_id> predict the minimum <building.square_feet> in all related records with <building.floor_count> less than <None>\n",
      "For each <building_id> predict the minimum <building.weather.cloud_coverage> in all related records with <building.weather.sea_level_pressure> greater than <None>\n",
      "For each <building_id> predict the average <meter> in all related records with <meter> greater than <None>\n",
      "For each <building_id> predict the minimum <building_id> in all related records with <building_id> greater than <None>\n",
      "For each <building_id> predict the minimum <building.weather.wind_direction> in all related records\n",
      "For each <building_id> predict the average <building.weather.sea_level_pressure> in all related records with <building_id> less than <None>\n",
      "For each <building_id> predict the minimum <building.weather.air_temperature> in all related records with <building.weather.precip_depth_1_hr> greater than <None>\n",
      "For each <building_id> predict the minimum <building.weather.cloud_coverage> in all related records with <building.weather.air_temperature> less than <None>\n",
      "For each <building_id> predict the first <building.primary_use> in all related records with <meter_reading> less than <None>\n",
      "For each <building_id> predict the total <building.square_feet> in all related records with <meter> greater than <None>\n"
     ]
    }
   ],
   "source": [
    "from random import sample\n",
    "  \n",
    "for problem in sample(problems, 100):\n",
    "    print(problem)"
   ]
  },
  {
   "cell_type": "markdown",
   "id": "a53d45bb-23f6-4ab8-b96f-17a4f8d9d06b",
   "metadata": {},
   "source": [
    "Energy Efficiency and Cost Savings:\n",
    "\n",
    "For each <building_id> predict the average <meter_reading> in all related records with <building.weather.air_temperature> greater than <None>\n",
    "Rationale: This can help building operators identify the relationship between air temperature and energy consumption. It can lead to cost-saving and energy-efficient decisions.\n",
    "Occupant Comfort and Health:\n",
    "\n",
    "For each <building_id> predict the average <building.weather.air_temperature> in all related records with <building.floor_count> greater than <None>\n",
    "Rationale: Indoor air temperature can significantly affect the comfort and productivity of building occupants. Knowing the average air temperature across buildings with multiple floors can be instrumental in HVAC management.\n",
    "Building Maintenance and Longevity:\n",
    "\n",
    "For each <building_id> predict the maximum <building.weather.dew_temperature> in all related records with <meter_reading> less than <None>\n",
    "Rationale: Dew temperature can be an indicator of the likelihood of condensation, which might affect building materials and longevity. This is especially critical for buildings with low meter readings, as they may not be adequately climate-controlled."
   ]
  },
  {
   "cell_type": "code",
   "execution_count": null,
   "id": "1a59250c-c3f9-4d09-9b6c-75df9d65992e",
   "metadata": {},
   "outputs": [],
   "source": []
  }
 ],
 "metadata": {
  "kernelspec": {
   "display_name": "Python 3 (ipykernel)",
   "language": "python",
   "name": "python3"
  },
  "language_info": {
   "codemirror_mode": {
    "name": "ipython",
    "version": 3
   },
   "file_extension": ".py",
   "mimetype": "text/x-python",
   "name": "python",
   "nbconvert_exporter": "python",
   "pygments_lexer": "ipython3",
   "version": "3.11.4"
  }
 },
 "nbformat": 4,
 "nbformat_minor": 5
}
