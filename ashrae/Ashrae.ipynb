{
 "cells": [
  {
   "cell_type": "code",
   "execution_count": 1,
   "id": "3119d850-ee02-442f-ba75-824605a17aac",
   "metadata": {},
   "outputs": [],
   "source": [
    "from utils import load_data\n",
    "\n",
    "dataframe, metadata = load_data(nrows=1000)"
   ]
  },
  {
   "cell_type": "code",
   "execution_count": 2,
   "id": "58935c05-d6d4-468c-8727-b92adedceef0",
   "metadata": {},
   "outputs": [
    {
     "name": "stdout",
     "output_type": "stream",
     "text": [
      "==================================================\n",
      "Generated 1891 total problems\n",
      "--------------------------------------------------\n",
      "Classification problems: 31\n",
      "Regression problems: 1860\n",
      "==================================================\n"
     ]
    }
   ],
   "source": [
    "from trane import ProblemGenerator\n",
    "\n",
    "problem_generator = ProblemGenerator(\n",
    "    metadata=metadata,\n",
    "    entity_columns=['building_id'],\n",
    ")\n",
    "problems = problem_generator.generate()"
   ]
  },
  {
   "cell_type": "code",
   "execution_count": 3,
   "id": "7d5528dc-0e08-4185-9018-de1ffedb018e",
   "metadata": {},
   "outputs": [
    {
     "name": "stdout",
     "output_type": "stream",
     "text": [
      "The number of problems exceeds the token limit for the model. Selecting the first 457 problems.\n",
      "ID: 1 Problem: For each building_id predict if there exists a record\n",
      "Reasoning: This problem will determine if there are missing records for each building_id, which could indicate potential data quality issues or incomplete data collection.\n",
      "\n",
      "ID: 32 Problem: For each building_id predict the average air_temperature in all related records\n",
      "Reasoning: This problem will provide insights into the average air temperature for each building, which is an important factor in determining energy consumption and potential energy savings.\n",
      "\n",
      "ID: 79 Problem: For each building_id predict the average cloud_coverage in all related records with precip_depth_1_hr less than float\n",
      "Reasoning: This problem will help understand the relationship between cloud coverage and precipitation, which can influence energy consumption and efficiency.\n",
      "\n",
      "ID: 117 Problem: For each building_id predict the average square_feet in all related records with square_feet less than float\n",
      "Reasoning: This problem will help identify the average square footage of buildings with smaller sizes, which can impact energy consumption and potential energy savings.\n",
      "\n",
      "ID: 172 Problem: For each building_id predict the average floor_count in all related records with precip_depth_1_hr less than float\n",
      "Reasoning: This problem will provide insights into the average number of floors in buildings with lower precipitation, which can affect energy usage and efficiency.\n"
     ]
    },
    {
     "data": {
      "text/plain": [
       "[For each <building_id> predict if there exists a record,\n",
       " For each <building_id> predict the average <air_temperature> in all related records,\n",
       " For each <building_id> predict the average <building_id> in all related records with <precip_depth_1_hr> less than <float>,\n",
       " For each <building_id> predict the average <cloud_coverage> in all related records with <square_feet> greater than <float>,\n",
       " For each <building_id> predict the average <floor_count> in all related records with <precip_depth_1_hr> less than <float>]"
      ]
     },
     "execution_count": 3,
     "metadata": {},
     "output_type": "execute_result"
    }
   ],
   "source": [
    "from trane.llm import analyze\n",
    "\n",
    "instructions = \"determine 5 most relevant problems about energy savings from efficiency upgrades\"\n",
    "context = \"a dataset that has three years of hourly readings from over a thousand buildings\"\n",
    "\n",
    "relevant_problems = analyze(\n",
    "    problems=problems,\n",
    "    instructions=instructions,\n",
    "    context=context,\n",
    "    model=\"gpt-3.5-turbo-16k\"\n",
    ")\n",
    "relevant_problems"
   ]
  }
 ],
 "metadata": {
  "kernelspec": {
   "display_name": "Python 3 (ipykernel)",
   "language": "python",
   "name": "python3"
  },
  "language_info": {
   "codemirror_mode": {
    "name": "ipython",
    "version": 3
   },
   "file_extension": ".py",
   "mimetype": "text/x-python",
   "name": "python",
   "nbconvert_exporter": "python",
   "pygments_lexer": "ipython3",
   "version": "3.11.4"
  }
 },
 "nbformat": 4,
 "nbformat_minor": 5
}
