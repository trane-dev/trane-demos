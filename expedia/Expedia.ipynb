{
 "cells": [
  {
   "cell_type": "code",
   "execution_count": 11,
   "id": "8e5fb818-5ab6-41ad-bafc-4fdcaaf73319",
   "metadata": {},
   "outputs": [],
   "source": [
    "from utils import load_data\n",
    "\n",
    "data, metadata = load_data(nrows=10000)"
   ]
  },
  {
   "cell_type": "code",
   "execution_count": 12,
   "id": "8366974a-a1c9-43f8-a0a6-ac23dcf47fae",
   "metadata": {},
   "outputs": [],
   "source": [
    "entity_columns = ['srch_destination_type_id']"
   ]
  },
  {
   "cell_type": "code",
   "execution_count": 13,
   "id": "bf3a8150-f681-4569-8d88-0a9097fbe5aa",
   "metadata": {},
   "outputs": [],
   "source": [
    "from trane import ProblemGenerator\n",
    "\n",
    "problem_generator = ProblemGenerator(\n",
    "    metadata=metadata,\n",
    "    entity_columns=entity_columns,\n",
    ")\n",
    "problems = problem_generator.generate()"
   ]
  },
  {
   "cell_type": "code",
   "execution_count": 14,
   "id": "565a10db-11a8-4129-b9fa-c01729e6fabc",
   "metadata": {},
   "outputs": [
    {
     "name": "stdout",
     "output_type": "stream",
     "text": [
      "generated 2257 problems from 24 columns\n"
     ]
    }
   ],
   "source": [
    "num_columns = data.shape[1]\n",
    "print(f\"generated {len(problems)} problems from {num_columns} columns\")"
   ]
  },
  {
   "cell_type": "code",
   "execution_count": 16,
   "id": "b009c69f-bb27-4c91-8dd0-021502438b0f",
   "metadata": {},
   "outputs": [
    {
     "name": "stdout",
     "output_type": "stream",
     "text": [
      "For each <srch_destination_type_id> predict the majority <hotel_cluster> in all related records with <hotel_continent> not equal to <None>\n",
      "For each <srch_destination_type_id> predict the first <hotel_market> in all related records with <channel> equal to <None>\n",
      "For each <srch_destination_type_id> predict the first <hotel_market> in all related records with <hotel_country> not equal to <None>\n",
      "For each <srch_destination_type_id> predict the majority <site_name> in all related records with <hotel_country> not equal to <None>\n",
      "For each <srch_destination_type_id> predict the first <hotel_market> in all related records with <hotel_country> equal to <None>\n",
      "For each <srch_destination_type_id> predict the last <hotel_continent> in all related records with <srch_destination_id> equal to <None>\n",
      "For each <srch_destination_type_id> predict if there exists a record with <user_location_region> not equal to <None>\n",
      "For each <srch_destination_type_id> predict the majority <user_location_region> in all related records with <channel> not equal to <None>\n",
      "For each <srch_destination_type_id> predict the average <srch_children_cnt> in all related records with <channel> not equal to <None>\n",
      "For each <srch_destination_type_id> predict the first <user_id> in all related records with <user_location_country> equal to <None>\n",
      "For each <srch_destination_type_id> predict the first <hotel_market> in all related records with <user_id> equal to <None>\n",
      "For each <srch_destination_type_id> predict the last <user_location_city> in all related records with <user_location_region> not equal to <None>\n",
      "For each <srch_destination_type_id> predict the last <posa_continent> in all related records with <user_location_region> not equal to <None>\n",
      "For each <srch_destination_type_id> predict the first <hotel_continent> in all related records with <user_location_country> equal to <None>\n",
      "For each <srch_destination_type_id> predict the maximum <srch_rm_cnt> in all related records with <srch_children_cnt> less than <None>\n",
      "For each <srch_destination_type_id> predict the majority <posa_continent> in all related records with <hotel_country> equal to <None>\n",
      "For each <srch_destination_type_id> predict the total <cnt> in all related records with <hotel_continent> equal to <None>\n",
      "For each <srch_destination_type_id> predict the minimum <srch_adults_cnt> in all related records with <hotel_cluster> not equal to <None>\n",
      "For each <srch_destination_type_id> predict the first <srch_destination_id> in all related records with <user_location_region> equal to <None>\n",
      "For each <srch_destination_type_id> predict the first <channel> in all related records with <posa_continent> equal to <None>\n",
      "For each <srch_destination_type_id> predict the total <cnt> in all related records with <cnt> greater than <None>\n",
      "For each <srch_destination_type_id> predict the average <cnt> in all related records with <channel> not equal to <None>\n",
      "For each <srch_destination_type_id> predict the majority <srch_destination_type_id> in all related records with <srch_children_cnt> greater than <None>\n",
      "For each <srch_destination_type_id> predict the minimum <orig_destination_distance> in all related records with <hotel_country> not equal to <None>\n",
      "For each <srch_destination_type_id> predict the first <user_location_city> in all related records with <hotel_cluster> equal to <None>\n",
      "For each <srch_destination_type_id> predict the last <user_id> in all related records with <user_location_country> not equal to <None>\n",
      "For each <srch_destination_type_id> predict the minimum <srch_children_cnt> in all related records\n",
      "For each <srch_destination_type_id> predict the first <user_location_city> in all related records with <cnt> greater than <None>\n",
      "For each <srch_destination_type_id> predict the number of records with <srch_destination_type_id> equal to <None>\n",
      "For each <srch_destination_type_id> predict the total <srch_children_cnt> in all related records with <srch_rm_cnt> less than <None>\n",
      "For each <srch_destination_type_id> predict the minimum <srch_rm_cnt> in all related records with <hotel_cluster> equal to <None>\n",
      "For each <srch_destination_type_id> predict the maximum <orig_destination_distance> in all related records with <orig_destination_distance> greater than <None>\n",
      "For each <srch_destination_type_id> predict the first <srch_destination_type_id> in all related records with <hotel_cluster> not equal to <None>\n",
      "For each <srch_destination_type_id> predict the last <hotel_market> in all related records with <user_id> not equal to <None>\n",
      "For each <srch_destination_type_id> predict the majority <user_location_city> in all related records with <hotel_country> equal to <None>\n",
      "For each <srch_destination_type_id> predict the minimum <orig_destination_distance> in all related records with <user_id> not equal to <None>\n",
      "For each <srch_destination_type_id> predict the majority <hotel_country> in all related records with <site_name> equal to <None>\n",
      "For each <srch_destination_type_id> predict the total <cnt> in all related records with <hotel_market> equal to <None>\n",
      "For each <srch_destination_type_id> predict the last <user_location_country> in all related records with <srch_rm_cnt> greater than <None>\n",
      "For each <srch_destination_type_id> predict the number of records with <site_name> equal to <None>\n",
      "For each <srch_destination_type_id> predict the last <user_location_region> in all related records with <hotel_market> not equal to <None>\n",
      "For each <srch_destination_type_id> predict the last <srch_destination_type_id> in all related records with <channel> not equal to <None>\n",
      "For each <srch_destination_type_id> predict the majority <user_location_country> in all related records with <hotel_continent> not equal to <None>\n",
      "For each <srch_destination_type_id> predict the majority <hotel_market> in all related records with <orig_destination_distance> less than <None>\n",
      "For each <srch_destination_type_id> predict the first <user_location_country> in all related records with <hotel_market> not equal to <None>\n",
      "For each <srch_destination_type_id> predict the majority <srch_destination_id> in all related records with <srch_destination_type_id> equal to <None>\n",
      "For each <srch_destination_type_id> predict the average <orig_destination_distance> in all related records with <srch_rm_cnt> less than <None>\n",
      "For each <srch_destination_type_id> predict the first <hotel_market> in all related records with <hotel_market> not equal to <None>\n",
      "For each <srch_destination_type_id> predict the first <hotel_country> in all related records with <user_location_country> equal to <None>\n",
      "For each <srch_destination_type_id> predict the majority <hotel_country> in all related records with <cnt> less than <None>\n",
      "For each <srch_destination_type_id> predict the majority <hotel_cluster> in all related records with <cnt> greater than <None>\n",
      "For each <srch_destination_type_id> predict the last <user_location_city> in all related records with <srch_children_cnt> less than <None>\n",
      "For each <srch_destination_type_id> predict the last <user_location_region> in all related records with <srch_adults_cnt> less than <None>\n",
      "For each <srch_destination_type_id> predict the majority <site_name> in all related records with <srch_destination_type_id> not equal to <None>\n",
      "For each <srch_destination_type_id> predict the maximum <orig_destination_distance> in all related records with <posa_continent> equal to <None>\n",
      "For each <srch_destination_type_id> predict the minimum <cnt> in all related records with <user_id> equal to <None>\n",
      "For each <srch_destination_type_id> predict the last <hotel_continent> in all related records with <srch_destination_type_id> equal to <None>\n",
      "For each <srch_destination_type_id> predict the first <srch_destination_type_id> in all related records with <srch_destination_type_id> not equal to <None>\n",
      "For each <srch_destination_type_id> predict the last <hotel_market> in all related records with <hotel_continent> equal to <None>\n",
      "For each <srch_destination_type_id> predict if there exists a record with <hotel_continent> not equal to <None>\n",
      "For each <srch_destination_type_id> predict the majority <user_id> in all related records with <srch_children_cnt> greater than <None>\n",
      "For each <srch_destination_type_id> predict the first <posa_continent> in all related records with <user_location_region> not equal to <None>\n",
      "For each <srch_destination_type_id> predict the majority <hotel_country> in all related records with <user_id> not equal to <None>\n",
      "For each <srch_destination_type_id> predict the majority <channel> in all related records with <srch_rm_cnt> less than <None>\n",
      "For each <srch_destination_type_id> predict the total <srch_rm_cnt> in all related records with <posa_continent> not equal to <None>\n",
      "For each <srch_destination_type_id> predict the minimum <srch_rm_cnt> in all related records with <hotel_continent> equal to <None>\n",
      "For each <srch_destination_type_id> predict the first <site_name> in all related records with <srch_children_cnt> greater than <None>\n",
      "For each <srch_destination_type_id> predict the total <srch_rm_cnt> in all related records\n",
      "For each <srch_destination_type_id> predict the average <cnt> in all related records\n",
      "For each <srch_destination_type_id> predict the total <cnt> in all related records with <user_id> equal to <None>\n",
      "For each <srch_destination_type_id> predict the average <srch_adults_cnt> in all related records with <hotel_cluster> not equal to <None>\n",
      "For each <srch_destination_type_id> predict the majority <hotel_market> in all related records with <posa_continent> not equal to <None>\n",
      "For each <srch_destination_type_id> predict the majority <hotel_cluster> in all related records with <srch_children_cnt> less than <None>\n",
      "For each <srch_destination_type_id> predict the average <srch_rm_cnt> in all related records with <srch_adults_cnt> less than <None>\n",
      "For each <srch_destination_type_id> predict the average <orig_destination_distance> in all related records with <user_id> not equal to <None>\n",
      "For each <srch_destination_type_id> predict the majority <hotel_cluster> in all related records with <srch_destination_id> equal to <None>\n",
      "For each <srch_destination_type_id> predict the minimum <srch_children_cnt> in all related records with <hotel_continent> equal to <None>\n",
      "For each <srch_destination_type_id> predict the first <hotel_continent> in all related records with <user_location_region> not equal to <None>\n",
      "For each <srch_destination_type_id> predict the first <posa_continent> in all related records with <srch_rm_cnt> greater than <None>\n",
      "For each <srch_destination_type_id> predict the maximum <srch_adults_cnt> in all related records with <srch_adults_cnt> less than <None>\n",
      "For each <srch_destination_type_id> predict the majority <hotel_continent> in all related records\n",
      "For each <srch_destination_type_id> predict the total <srch_adults_cnt> in all related records with <cnt> greater than <None>\n",
      "For each <srch_destination_type_id> predict the first <hotel_continent> in all related records with <user_location_city> equal to <None>\n",
      "For each <srch_destination_type_id> predict the maximum <cnt> in all related records with <hotel_country> equal to <None>\n",
      "For each <srch_destination_type_id> predict the first <posa_continent> in all related records with <srch_rm_cnt> less than <None>\n",
      "For each <srch_destination_type_id> predict the first <user_location_city> in all related records with <srch_destination_type_id> equal to <None>\n",
      "For each <srch_destination_type_id> predict the first <posa_continent> in all related records with <user_location_city> not equal to <None>\n",
      "For each <srch_destination_type_id> predict the average <srch_rm_cnt> in all related records with <hotel_country> equal to <None>\n",
      "For each <srch_destination_type_id> predict the first <user_location_region> in all related records with <hotel_country> equal to <None>\n",
      "For each <srch_destination_type_id> predict the average <srch_children_cnt> in all related records with <hotel_market> equal to <None>\n",
      "For each <srch_destination_type_id> predict the number of records with <cnt> greater than <None>\n",
      "For each <srch_destination_type_id> predict the average <srch_adults_cnt> in all related records with <srch_destination_type_id> equal to <None>\n",
      "For each <srch_destination_type_id> predict the majority <srch_destination_id> in all related records with <srch_adults_cnt> greater than <None>\n",
      "For each <srch_destination_type_id> predict the majority <hotel_continent> in all related records with <posa_continent> not equal to <None>\n",
      "For each <srch_destination_type_id> predict the last <srch_destination_type_id> in all related records with <hotel_cluster> equal to <None>\n",
      "For each <srch_destination_type_id> predict the majority <srch_destination_id> in all related records with <user_location_city> equal to <None>\n",
      "For each <srch_destination_type_id> predict the majority <user_id> in all related records with <hotel_continent> not equal to <None>\n",
      "For each <srch_destination_type_id> predict the majority <hotel_market> in all related records with <srch_adults_cnt> greater than <None>\n",
      "For each <srch_destination_type_id> predict the last <posa_continent> in all related records with <srch_destination_type_id> not equal to <None>\n",
      "For each <srch_destination_type_id> predict the last <hotel_cluster> in all related records with <user_location_country> not equal to <None>\n"
     ]
    }
   ],
   "source": [
    "from random import sample\n",
    "  \n",
    "for problem in sample(problems, 100):\n",
    "    print(problem)"
   ]
  },
  {
   "cell_type": "markdown",
   "id": "10552e20-68c9-478d-9eb2-4c584baf6852",
   "metadata": {},
   "source": [
    "For each <srch_destination_type_id> predict the majority <hotel_cluster> in all related records with <hotel_continent> not equal to <None>: Understanding the most popular hotel cluster for each type of destination could be crucial for optimizing recommendations or inventory.\n",
    "\n",
    "For each <srch_destination_type_id> predict the average <srch_children_cnt> in all related records with <channel> not equal to <None>: This could offer insights into family-friendly destinations and help in tailoring marketing strategies.\n",
    "\n",
    "For each <srch_destination_type_id> predict the total <cnt> in all related records with <hotel_continent> equal to <None>: This can provide information on how many records are missing crucial data, which is necessary for data cleaning and integrity.\n",
    "\n",
    "For each <srch_destination_type_id> predict the majority <user_location_region> in all related records with <channel> not equal to <None>: Knowing where the majority of users are coming from can help in tailoring marketing campaigns for specific regions.\n",
    "\n",
    "For each <srch_destination_type_id> predict the average <orig_destination_distance> in all related records with <srch_rm_cnt> less than <None>: This could provide insights into how far people are willing to travel for specific types of destinations, which might be important for logistics and pricing strategies."
   ]
  },
  {
   "cell_type": "code",
   "execution_count": null,
   "id": "f40d3dd8-9ab3-46e6-9db6-437292f243cb",
   "metadata": {},
   "outputs": [],
   "source": []
  }
 ],
 "metadata": {
  "kernelspec": {
   "display_name": "Python 3 (ipykernel)",
   "language": "python",
   "name": "python3"
  },
  "language_info": {
   "codemirror_mode": {
    "name": "ipython",
    "version": 3
   },
   "file_extension": ".py",
   "mimetype": "text/x-python",
   "name": "python",
   "nbconvert_exporter": "python",
   "pygments_lexer": "ipython3",
   "version": "3.11.4"
  }
 },
 "nbformat": 4,
 "nbformat_minor": 5
}
