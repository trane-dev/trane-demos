{
 "cells": [
  {
   "cell_type": "code",
   "execution_count": 1,
   "id": "8e5fb818-5ab6-41ad-bafc-4fdcaaf73319",
   "metadata": {},
   "outputs": [],
   "source": [
    "from utils import load_data\n",
    "\n",
    "data, metadata = load_data(nrows=10000)"
   ]
  },
  {
   "cell_type": "code",
   "execution_count": 2,
   "id": "bf3a8150-f681-4569-8d88-0a9097fbe5aa",
   "metadata": {},
   "outputs": [
    {
     "name": "stdout",
     "output_type": "stream",
     "text": [
      "==================================================\n",
      "Generated 2257 total problems\n",
      "--------------------------------------------------\n",
      "Classification problems: 37\n",
      "Regression problems: 2220\n",
      "==================================================\n"
     ]
    }
   ],
   "source": [
    "from trane import ProblemGenerator\n",
    "\n",
    "problem_generator = ProblemGenerator(\n",
    "    metadata=metadata,\n",
    "    entity_columns=['srch_destination_type_id'],\n",
    ")\n",
    "problems = problem_generator.generate()"
   ]
  },
  {
   "cell_type": "code",
   "execution_count": 3,
   "id": "f40d3dd8-9ab3-46e6-9db6-437292f243cb",
   "metadata": {},
   "outputs": [
    {
     "name": "stdout",
     "output_type": "stream",
     "text": [
      "The number of problems exceeds the token limit for the model. Selecting the first 421 problems.\n",
      "The 5 most relevant problems about user's booking preferences are:\n",
      "\n",
      "ID: 6 Problem: For each srch_destination_type_id predict if there exists a record with hotel_cluster equal to str\n",
      "- This problem is relevant because it helps identify if there are specific hotel clusters that are frequently booked for a particular destination type.\n",
      "\n",
      "ID: 14 Problem: For each srch_destination_type_id predict if there exists a record with orig_destination_distance greater than float\n",
      "- This problem is relevant because it helps identify if there is a correlation between the distance of the destination and the likelihood of booking a travel package.\n",
      "\n",
      "ID: 23 Problem: For each srch_destination_type_id predict if there exists a record with srch_children_cnt less than float\n",
      "- This problem is relevant because it helps identify if users with fewer children are more likely to book a travel package for a particular destination type.\n",
      "\n",
      "ID: 30 Problem: For each srch_destination_type_id predict if there exists a record with user_id equal to str\n",
      "- This problem is relevant because it helps identify if there are specific users who consistently book travel packages for a particular destination type.\n",
      "\n",
      "ID: 75 Problem: For each srch_destination_type_id predict the average orig_destination_distance in all related records\n",
      "- This problem is relevant because it helps determine the average distance of the destinations for each destination type, which can provide insights into user preferences and travel patterns.\n"
     ]
    },
    {
     "data": {
      "text/plain": [
       "[For each <srch_destination_type_id> predict if there exists a record with <hotel_cluster> equal to <str>,\n",
       " For each <srch_destination_type_id> predict if there exists a record with <orig_destination_distance> greater than <float>,\n",
       " For each <srch_destination_type_id> predict if there exists a record with <srch_children_cnt> less than <float>,\n",
       " For each <srch_destination_type_id> predict if there exists a record with <user_id> equal to <str>,\n",
       " For each <srch_destination_type_id> predict the average <orig_destination_distance> in all related records]"
      ]
     },
     "execution_count": 3,
     "metadata": {},
     "output_type": "execute_result"
    }
   ],
   "source": [
    "from trane.llm import analyze\n",
    "\n",
    "instructions = \"determine 5 most relevant problems about user's booking preferences\"\n",
    "context = \"\"\"\n",
    "a dataset of logs of customer behavior, including what customers searched for, \n",
    "how they interacted with search results (click/book), whether or not the search result was a travel package. \n",
    "\"\"\"\n",
    "\n",
    "relevant_problems = analyze(\n",
    "    problems=problems,\n",
    "    instructions=instructions,\n",
    "    context=context,\n",
    "    model=\"gpt-3.5-turbo-16k\"\n",
    ")\n",
    "relevant_problems"
   ]
  }
 ],
 "metadata": {
  "kernelspec": {
   "display_name": "Python 3 (ipykernel)",
   "language": "python",
   "name": "python3"
  },
  "language_info": {
   "codemirror_mode": {
    "name": "ipython",
    "version": 3
   },
   "file_extension": ".py",
   "mimetype": "text/x-python",
   "name": "python",
   "nbconvert_exporter": "python",
   "pygments_lexer": "ipython3",
   "version": "3.11.4"
  }
 },
 "nbformat": 4,
 "nbformat_minor": 5
}
