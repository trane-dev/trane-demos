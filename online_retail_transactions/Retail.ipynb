{
 "cells": [
  {
   "cell_type": "code",
   "execution_count": 1,
   "id": "c62a80fc-73e9-4667-a289-cf9ea0ce7e98",
   "metadata": {},
   "outputs": [],
   "source": [
    "import trane\n",
    "import pandas as pd\n",
    "\n",
    "from utils import load_retail"
   ]
  },
  {
   "cell_type": "code",
   "execution_count": 2,
   "id": "881ede33-56e6-4dd4-98b4-fd73f0d89d22",
   "metadata": {},
   "outputs": [],
   "source": [
    "entity_columns = [\"Invoice\", None]\n",
    "window_size = \"1h\""
   ]
  },
  {
   "cell_type": "code",
   "execution_count": 3,
   "id": "b7650ce1-13f1-4692-b8eb-f0e263527f66",
   "metadata": {},
   "outputs": [],
   "source": [
    "data, metadata = load_retail(force_reload=True)"
   ]
  },
  {
   "cell_type": "code",
   "execution_count": 4,
   "id": "7806c06a-28f1-42ac-ba50-c65c96412193",
   "metadata": {},
   "outputs": [
    {
     "data": {
      "text/plain": [
       "defaultdict(dict,\n",
       "            {'Invoice': Categorical,\n",
       "             'StockCode': Categorical,\n",
       "             'Description': Categorical,\n",
       "             'Quantity': Integer,\n",
       "             'InvoiceDate': Datetime,\n",
       "             'Price': Double,\n",
       "             'Customer ID': Categorical,\n",
       "             'Country': Categorical})"
      ]
     },
     "execution_count": 4,
     "metadata": {},
     "output_type": "execute_result"
    }
   ],
   "source": [
    "metadata.ml_types"
   ]
  },
  {
   "cell_type": "code",
   "execution_count": 5,
   "id": "6b4ebf4d-a6e6-42e7-bd07-db0b20363003",
   "metadata": {},
   "outputs": [
    {
     "data": {
      "text/html": [
       "<div>\n",
       "<style scoped>\n",
       "    .dataframe tbody tr th:only-of-type {\n",
       "        vertical-align: middle;\n",
       "    }\n",
       "\n",
       "    .dataframe tbody tr th {\n",
       "        vertical-align: top;\n",
       "    }\n",
       "\n",
       "    .dataframe thead th {\n",
       "        text-align: right;\n",
       "    }\n",
       "</style>\n",
       "<table border=\"1\" class=\"dataframe\">\n",
       "  <thead>\n",
       "    <tr style=\"text-align: right;\">\n",
       "      <th></th>\n",
       "      <th>Invoice</th>\n",
       "      <th>StockCode</th>\n",
       "      <th>Description</th>\n",
       "      <th>Quantity</th>\n",
       "      <th>InvoiceDate</th>\n",
       "      <th>Price</th>\n",
       "      <th>Customer ID</th>\n",
       "      <th>Country</th>\n",
       "    </tr>\n",
       "  </thead>\n",
       "  <tbody>\n",
       "    <tr>\n",
       "      <th>0</th>\n",
       "      <td>489434</td>\n",
       "      <td>85048</td>\n",
       "      <td>15CM CHRISTMAS GLASS BALL 20 LIGHTS</td>\n",
       "      <td>12</td>\n",
       "      <td>2009-12-01 07:45:00</td>\n",
       "      <td>6.95</td>\n",
       "      <td>13085</td>\n",
       "      <td>United Kingdom</td>\n",
       "    </tr>\n",
       "    <tr>\n",
       "      <th>1</th>\n",
       "      <td>489434</td>\n",
       "      <td>79323P</td>\n",
       "      <td>PINK CHERRY LIGHTS</td>\n",
       "      <td>12</td>\n",
       "      <td>2009-12-01 07:45:00</td>\n",
       "      <td>6.75</td>\n",
       "      <td>13085</td>\n",
       "      <td>United Kingdom</td>\n",
       "    </tr>\n",
       "    <tr>\n",
       "      <th>2</th>\n",
       "      <td>489434</td>\n",
       "      <td>79323W</td>\n",
       "      <td>WHITE CHERRY LIGHTS</td>\n",
       "      <td>12</td>\n",
       "      <td>2009-12-01 07:45:00</td>\n",
       "      <td>6.75</td>\n",
       "      <td>13085</td>\n",
       "      <td>United Kingdom</td>\n",
       "    </tr>\n",
       "  </tbody>\n",
       "</table>\n",
       "</div>"
      ],
      "text/plain": [
       "  Invoice StockCode                          Description  Quantity  \\\n",
       "0  489434     85048  15CM CHRISTMAS GLASS BALL 20 LIGHTS        12   \n",
       "1  489434    79323P                   PINK CHERRY LIGHTS        12   \n",
       "2  489434    79323W                  WHITE CHERRY LIGHTS        12   \n",
       "\n",
       "          InvoiceDate  Price  Customer ID         Country  \n",
       "0 2009-12-01 07:45:00   6.95        13085  United Kingdom  \n",
       "1 2009-12-01 07:45:00   6.75        13085  United Kingdom  \n",
       "2 2009-12-01 07:45:00   6.75        13085  United Kingdom  "
      ]
     },
     "execution_count": 5,
     "metadata": {},
     "output_type": "execute_result"
    }
   ],
   "source": [
    "data.head(3)"
   ]
  },
  {
   "cell_type": "code",
   "execution_count": 6,
   "id": "8ce1a9b8-71f2-4c88-ae7c-334b22394f69",
   "metadata": {},
   "outputs": [
    {
     "name": "stdout",
     "output_type": "stream",
     "text": [
      "shape: (525461, 8)\n"
     ]
    }
   ],
   "source": [
    "print(f'shape: {data.shape}')"
   ]
  },
  {
   "cell_type": "code",
   "execution_count": 7,
   "id": "c1ec784e-f1aa-4285-86ee-80c1e41ce8c9",
   "metadata": {},
   "outputs": [
    {
     "name": "stdout",
     "output_type": "stream",
     "text": [
      "Generated 100 problems.\n"
     ]
    }
   ],
   "source": [
    "problem_generator = trane.ProblemGenerator(\n",
    "    metadata=metadata,\n",
    "    window_size=window_size,\n",
    "    entity_columns=entity_columns\n",
    ")\n",
    "problems = problem_generator.generate()\n",
    "\n",
    "print(f'Generated {len(problems)} problems.')"
   ]
  },
  {
   "cell_type": "code",
   "execution_count": 8,
   "id": "ef43cc84-36ee-4645-b49e-265b2c87e0ca",
   "metadata": {
    "scrolled": true
   },
   "outputs": [
    {
     "name": "stdout",
     "output_type": "stream",
     "text": [
      "For each <Invoice> predict if there exists a record in next 1h days\n",
      "For each <Invoice> predict if there exists a record with <Price> greater than <None> in next 1h days\n",
      "For each <Invoice> predict if there exists a record with <Price> less than <None> in next 1h days\n",
      "For each <Invoice> predict if there exists a record with <Quantity> greater than <None> in next 1h days\n",
      "For each <Invoice> predict if there exists a record with <Quantity> less than <None> in next 1h days\n",
      "For each <Invoice> predict the average <Price> in all related records in next 1h days\n",
      "For each <Invoice> predict the average <Price> in all related records with <Price> greater than <None> in next 1h days\n",
      "For each <Invoice> predict the average <Price> in all related records with <Price> less than <None> in next 1h days\n",
      "For each <Invoice> predict the average <Price> in all related records with <Quantity> greater than <None> in next 1h days\n",
      "For each <Invoice> predict the average <Price> in all related records with <Quantity> less than <None> in next 1h days\n",
      "For each <Invoice> predict the average <Quantity> in all related records in next 1h days\n",
      "For each <Invoice> predict the average <Quantity> in all related records with <Price> greater than <None> in next 1h days\n",
      "For each <Invoice> predict the average <Quantity> in all related records with <Price> less than <None> in next 1h days\n",
      "For each <Invoice> predict the average <Quantity> in all related records with <Quantity> greater than <None> in next 1h days\n",
      "For each <Invoice> predict the average <Quantity> in all related records with <Quantity> less than <None> in next 1h days\n",
      "For each <Invoice> predict the maximum <Price> in all related records in next 1h days\n",
      "For each <Invoice> predict the maximum <Price> in all related records with <Price> greater than <None> in next 1h days\n",
      "For each <Invoice> predict the maximum <Price> in all related records with <Price> less than <None> in next 1h days\n",
      "For each <Invoice> predict the maximum <Price> in all related records with <Quantity> greater than <None> in next 1h days\n",
      "For each <Invoice> predict the maximum <Price> in all related records with <Quantity> less than <None> in next 1h days\n",
      "For each <Invoice> predict the maximum <Quantity> in all related records in next 1h days\n",
      "For each <Invoice> predict the maximum <Quantity> in all related records with <Price> greater than <None> in next 1h days\n",
      "For each <Invoice> predict the maximum <Quantity> in all related records with <Price> less than <None> in next 1h days\n",
      "For each <Invoice> predict the maximum <Quantity> in all related records with <Quantity> greater than <None> in next 1h days\n",
      "For each <Invoice> predict the maximum <Quantity> in all related records with <Quantity> less than <None> in next 1h days\n",
      "For each <Invoice> predict the minimum <Price> in all related records in next 1h days\n",
      "For each <Invoice> predict the minimum <Price> in all related records with <Price> greater than <None> in next 1h days\n",
      "For each <Invoice> predict the minimum <Price> in all related records with <Price> less than <None> in next 1h days\n",
      "For each <Invoice> predict the minimum <Price> in all related records with <Quantity> greater than <None> in next 1h days\n",
      "For each <Invoice> predict the minimum <Price> in all related records with <Quantity> less than <None> in next 1h days\n",
      "For each <Invoice> predict the minimum <Quantity> in all related records in next 1h days\n",
      "For each <Invoice> predict the minimum <Quantity> in all related records with <Price> greater than <None> in next 1h days\n",
      "For each <Invoice> predict the minimum <Quantity> in all related records with <Price> less than <None> in next 1h days\n",
      "For each <Invoice> predict the minimum <Quantity> in all related records with <Quantity> greater than <None> in next 1h days\n",
      "For each <Invoice> predict the minimum <Quantity> in all related records with <Quantity> less than <None> in next 1h days\n",
      "For each <Invoice> predict the number of records in next 1h days\n",
      "For each <Invoice> predict the number of records with <Price> greater than <None> in next 1h days\n",
      "For each <Invoice> predict the number of records with <Price> less than <None> in next 1h days\n",
      "For each <Invoice> predict the number of records with <Quantity> greater than <None> in next 1h days\n",
      "For each <Invoice> predict the number of records with <Quantity> less than <None> in next 1h days\n",
      "For each <Invoice> predict the total <Price> in all related records in next 1h days\n",
      "For each <Invoice> predict the total <Price> in all related records with <Price> greater than <None> in next 1h days\n",
      "For each <Invoice> predict the total <Price> in all related records with <Price> less than <None> in next 1h days\n",
      "For each <Invoice> predict the total <Price> in all related records with <Quantity> greater than <None> in next 1h days\n",
      "For each <Invoice> predict the total <Price> in all related records with <Quantity> less than <None> in next 1h days\n",
      "For each <Invoice> predict the total <Quantity> in all related records in next 1h days\n",
      "For each <Invoice> predict the total <Quantity> in all related records with <Price> greater than <None> in next 1h days\n",
      "For each <Invoice> predict the total <Quantity> in all related records with <Price> less than <None> in next 1h days\n",
      "For each <Invoice> predict the total <Quantity> in all related records with <Quantity> greater than <None> in next 1h days\n",
      "For each <Invoice> predict the total <Quantity> in all related records with <Quantity> less than <None> in next 1h days\n",
      "Predict if there exists a record in next 1h days\n",
      "Predict if there exists a record with <Price> greater than <None> in next 1h days\n",
      "Predict if there exists a record with <Price> less than <None> in next 1h days\n",
      "Predict if there exists a record with <Quantity> greater than <None> in next 1h days\n",
      "Predict if there exists a record with <Quantity> less than <None> in next 1h days\n",
      "Predict the average <Price> in all related records in next 1h days\n",
      "Predict the average <Price> in all related records with <Price> greater than <None> in next 1h days\n",
      "Predict the average <Price> in all related records with <Price> less than <None> in next 1h days\n",
      "Predict the average <Price> in all related records with <Quantity> greater than <None> in next 1h days\n",
      "Predict the average <Price> in all related records with <Quantity> less than <None> in next 1h days\n",
      "Predict the average <Quantity> in all related records in next 1h days\n",
      "Predict the average <Quantity> in all related records with <Price> greater than <None> in next 1h days\n",
      "Predict the average <Quantity> in all related records with <Price> less than <None> in next 1h days\n",
      "Predict the average <Quantity> in all related records with <Quantity> greater than <None> in next 1h days\n",
      "Predict the average <Quantity> in all related records with <Quantity> less than <None> in next 1h days\n",
      "Predict the maximum <Price> in all related records in next 1h days\n",
      "Predict the maximum <Price> in all related records with <Price> greater than <None> in next 1h days\n",
      "Predict the maximum <Price> in all related records with <Price> less than <None> in next 1h days\n",
      "Predict the maximum <Price> in all related records with <Quantity> greater than <None> in next 1h days\n",
      "Predict the maximum <Price> in all related records with <Quantity> less than <None> in next 1h days\n",
      "Predict the maximum <Quantity> in all related records in next 1h days\n",
      "Predict the maximum <Quantity> in all related records with <Price> greater than <None> in next 1h days\n",
      "Predict the maximum <Quantity> in all related records with <Price> less than <None> in next 1h days\n",
      "Predict the maximum <Quantity> in all related records with <Quantity> greater than <None> in next 1h days\n",
      "Predict the maximum <Quantity> in all related records with <Quantity> less than <None> in next 1h days\n",
      "Predict the minimum <Price> in all related records in next 1h days\n",
      "Predict the minimum <Price> in all related records with <Price> greater than <None> in next 1h days\n",
      "Predict the minimum <Price> in all related records with <Price> less than <None> in next 1h days\n",
      "Predict the minimum <Price> in all related records with <Quantity> greater than <None> in next 1h days\n",
      "Predict the minimum <Price> in all related records with <Quantity> less than <None> in next 1h days\n",
      "Predict the minimum <Quantity> in all related records in next 1h days\n",
      "Predict the minimum <Quantity> in all related records with <Price> greater than <None> in next 1h days\n",
      "Predict the minimum <Quantity> in all related records with <Price> less than <None> in next 1h days\n",
      "Predict the minimum <Quantity> in all related records with <Quantity> greater than <None> in next 1h days\n",
      "Predict the minimum <Quantity> in all related records with <Quantity> less than <None> in next 1h days\n",
      "Predict the number of records in next 1h days\n",
      "Predict the number of records with <Price> greater than <None> in next 1h days\n",
      "Predict the number of records with <Price> less than <None> in next 1h days\n",
      "Predict the number of records with <Quantity> greater than <None> in next 1h days\n",
      "Predict the number of records with <Quantity> less than <None> in next 1h days\n",
      "Predict the total <Price> in all related records in next 1h days\n",
      "Predict the total <Price> in all related records with <Price> greater than <None> in next 1h days\n",
      "Predict the total <Price> in all related records with <Price> less than <None> in next 1h days\n",
      "Predict the total <Price> in all related records with <Quantity> greater than <None> in next 1h days\n",
      "Predict the total <Price> in all related records with <Quantity> less than <None> in next 1h days\n",
      "Predict the total <Quantity> in all related records in next 1h days\n",
      "Predict the total <Quantity> in all related records with <Price> greater than <None> in next 1h days\n",
      "Predict the total <Quantity> in all related records with <Price> less than <None> in next 1h days\n",
      "Predict the total <Quantity> in all related records with <Quantity> greater than <None> in next 1h days\n",
      "Predict the total <Quantity> in all related records with <Quantity> less than <None> in next 1h days\n"
     ]
    }
   ],
   "source": [
    "from collections import defaultdict\n",
    "problem_types = defaultdict(int)\n",
    "for problem in problems:\n",
    "    print(problem)\n",
    "    problem_types[problem.get_problem_type()] += 1"
   ]
  },
  {
   "cell_type": "code",
   "execution_count": 9,
   "id": "e851038f-6eca-409c-8b92-31e32e15b191",
   "metadata": {},
   "outputs": [
    {
     "name": "stdout",
     "output_type": "stream",
     "text": [
      "number of classification problems: 10\n",
      "number of regression problems: 90\n"
     ]
    }
   ],
   "source": [
    "classification = problem_types['classification']\n",
    "regression = problem_types['regression']\n",
    "print(f'number of classification problems: {classification}')\n",
    "print(f'number of regression problems: {regression}')"
   ]
  }
 ],
 "metadata": {
  "kernelspec": {
   "display_name": "Python 3 (ipykernel)",
   "language": "python",
   "name": "python3"
  },
  "language_info": {
   "codemirror_mode": {
    "name": "ipython",
    "version": 3
   },
   "file_extension": ".py",
   "mimetype": "text/x-python",
   "name": "python",
   "nbconvert_exporter": "python",
   "pygments_lexer": "ipython3",
   "version": "3.11.4"
  }
 },
 "nbformat": 4,
 "nbformat_minor": 5
}
